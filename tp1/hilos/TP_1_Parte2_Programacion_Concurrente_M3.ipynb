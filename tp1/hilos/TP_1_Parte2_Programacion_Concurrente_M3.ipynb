{
  "cells": [
    {
      "cell_type": "markdown",
      "metadata": {
        "id": "fFddcX0u4NPv"
      },
      "source": [
        "## Go"
      ]
    },
    {
      "cell_type": "markdown",
      "metadata": {
        "id": "S6bj9q3JrGHq"
      },
      "source": [
        "Instalar Go"
      ]
    },
    {
      "cell_type": "code",
      "execution_count": null,
      "metadata": {
        "colab": {
          "base_uri": "https://localhost:8080/"
        },
        "id": "dYz5EX4MrHN5",
        "outputId": "3dd70d33-3d51-4ad0-9ce0-73d8d08350be"
      },
      "outputs": [
        {
          "name": "stdout",
          "output_type": "stream",
          "text": [
            "Reading package lists... Done\n",
            "Building dependency tree... Done\n",
            "Reading state information... Done\n",
            "The following additional packages will be installed:\n",
            "  golang-1.18-go golang-1.18-src golang-src\n",
            "Suggested packages:\n",
            "  bzr | brz mercurial subversion\n",
            "The following NEW packages will be installed:\n",
            "  golang-1.18-go golang-1.18-src golang-go golang-src\n",
            "0 upgraded, 4 newly installed, 0 to remove and 45 not upgraded.\n",
            "Need to get 82.3 MB of archives.\n",
            "After this operation, 436 MB of additional disk space will be used.\n",
            "Get:1 http://archive.ubuntu.com/ubuntu jammy-updates/main amd64 golang-1.18-src all 1.18.1-1ubuntu1.1 [16.2 MB]\n",
            "Get:2 http://archive.ubuntu.com/ubuntu jammy-updates/main amd64 golang-1.18-go amd64 1.18.1-1ubuntu1.1 [66.0 MB]\n",
            "Get:3 http://archive.ubuntu.com/ubuntu jammy/main amd64 golang-src all 2:1.18~0ubuntu2 [4,438 B]\n",
            "Get:4 http://archive.ubuntu.com/ubuntu jammy/main amd64 golang-go amd64 2:1.18~0ubuntu2 [41.8 kB]\n",
            "Fetched 82.3 MB in 4s (21.6 MB/s)\n",
            "Selecting previously unselected package golang-1.18-src.\n",
            "(Reading database ... 121752 files and directories currently installed.)\n",
            "Preparing to unpack .../golang-1.18-src_1.18.1-1ubuntu1.1_all.deb ...\n",
            "Unpacking golang-1.18-src (1.18.1-1ubuntu1.1) ...\n",
            "Selecting previously unselected package golang-1.18-go.\n",
            "Preparing to unpack .../golang-1.18-go_1.18.1-1ubuntu1.1_amd64.deb ...\n",
            "Unpacking golang-1.18-go (1.18.1-1ubuntu1.1) ...\n",
            "Selecting previously unselected package golang-src.\n",
            "Preparing to unpack .../golang-src_2%3a1.18~0ubuntu2_all.deb ...\n",
            "Unpacking golang-src (2:1.18~0ubuntu2) ...\n",
            "Selecting previously unselected package golang-go:amd64.\n",
            "Preparing to unpack .../golang-go_2%3a1.18~0ubuntu2_amd64.deb ...\n",
            "Unpacking golang-go:amd64 (2:1.18~0ubuntu2) ...\n",
            "Setting up golang-1.18-src (1.18.1-1ubuntu1.1) ...\n",
            "Setting up golang-src (2:1.18~0ubuntu2) ...\n",
            "Setting up golang-1.18-go (1.18.1-1ubuntu1.1) ...\n",
            "Setting up golang-go:amd64 (2:1.18~0ubuntu2) ...\n",
            "Processing triggers for man-db (2.10.2-1) ...\n"
          ]
        }
      ],
      "source": [
        "!apt install golang-go"
      ]
    },
    {
      "cell_type": "code",
      "execution_count": null,
      "metadata": {
        "colab": {
          "base_uri": "https://localhost:8080/"
        },
        "id": "nUakRHn_qPr_",
        "outputId": "27c8a4a0-a98f-4b0f-fb5e-c3687233a400"
      },
      "outputs": [
        {
          "name": "stdout",
          "output_type": "stream",
          "text": [
            "Overwriting hilos.go\n"
          ]
        }
      ],
      "source": [
        "%%writefile hilos.go\n",
        "\n",
        "package main\n",
        "\n",
        "import (\n",
        "\t\"fmt\"\n",
        "\t\"math/rand\"\n",
        "\t\"os\"\n",
        "\t\"reflect\"\n",
        "\t\"strconv\"\n",
        "\t\"sync\"\n",
        "\t\"time\"\n",
        ")\n",
        "\n",
        "var (\n",
        "\tinitialMatrix    [][]int\n",
        "\tsequentialMatrix [][]int\n",
        "\tconcurrentMatrix [][]int\n",
        ")\n",
        "\n",
        "const (\n",
        "\tshowMatrices    = false\n",
        "\tmaxThreads      = 300\n",
        "\tmaxSize         = 10000\n",
        "\tmaxVisibleSize  = 50\n",
        "\tmaxRandomNumber = 10\n",
        "\tdimensionPos    = 1\n",
        "\tthreadsPos      = 2\n",
        ")\n",
        "\n",
        "func main() {\n",
        "\t//testing the program with arguments.\n",
        "\tif len(os.Args) == 3 {\n",
        "\t\tsizeToTest, err := strconv.Atoi(os.Args[dimensionPos])\n",
        "\t\tif err != nil {\n",
        "\t\t\tpanic(err.Error())\n",
        "\t\t}\n",
        "\n",
        "\t\tthreadsToTest, err := strconv.Atoi(os.Args[threadsPos])\n",
        "\t\tif err != nil {\n",
        "\t\t\tpanic(err.Error())\n",
        "\t\t}\n",
        "\n",
        "\t\tscalarToTest := 10\n",
        "\n",
        "\t\tprevalidateArguments(&sizeToTest, &threadsToTest)\n",
        "\t\tinitMatrices(sizeToTest)\n",
        "\n",
        "\t\tsequentialStart := time.Now()\n",
        "\t\tmultiplyMatrixSequential(scalarToTest)\n",
        "\t\tsequentialEnd := time.Since(sequentialStart)\n",
        "\n",
        "\t\tconcurrentStart := time.Now()\n",
        "\t\tmultiplyMatrixConcurrent(scalarToTest, threadsToTest)\n",
        "\t\tconcurrentEnd := time.Since(concurrentStart)\n",
        "\n",
        "\t\tequal := compareMatrices(sequentialMatrix, concurrentMatrix)\n",
        "\t\tfmt.Println(\"The matrices are equal: \", equal)\n",
        "\n",
        "\t\tif showMatrices && sizeToTest < maxVisibleSize {\n",
        "\t\t\tprintMatrix(initialMatrix)\n",
        "\t\t\tprintMatrix(sequentialMatrix)\n",
        "\t\t\tprintMatrix(concurrentMatrix)\n",
        "\t\t}\n",
        "\n",
        "\t\tfmt.Println(\"Time elapsed for sequential: \", sequentialEnd.Milliseconds(), \"ms\")\n",
        "\t\tfmt.Println(\"Time elapsed for concurrent: \", concurrentEnd.Milliseconds(), \"ms\")\n",
        "\n",
        "\t} else { //testing the program with the matrix\n",
        "\t\tthreads := []int{0, 1, 2, 4}\n",
        "\t\tsizes := []int{10, 20, 40, 80}\n",
        "\t\tscalar := 10\n",
        "\t\tresults := measureTimes(threads, sizes, scalar)\n",
        "\t\tprintResults(results, threads, sizes)\n",
        "\t}\n",
        "}\n",
        "\n",
        "func printResults(results [][]time.Duration, threads []int, sizes []int) {\n",
        "\tfor idxSize, row := range results {\n",
        "\t\tfmt.Print(\"N:\", sizes[idxSize], \"\\n\\t\")\n",
        "\t\tfor idxThread := range row {\n",
        "\t\t\tif idxThread == 0 {\n",
        "\t\t\t\tfmt.Print(\"Secuencial:\", results[idxSize][idxThread], \"\\t\")\n",
        "\t\t\t} else {\n",
        "\t\t\t\tfmt.Print(threads[idxThread], \" Hilos:\", results[idxSize][idxThread], \"\\t\")\n",
        "\t\t\t}\n",
        "\t\t}\n",
        "\t\tfmt.Println()\n",
        "\t}\n",
        "}\n",
        "\n",
        "func measureTimes(threads []int, sizes []int, scalar int) (results [][]time.Duration) {\n",
        "\tresults = make([][]time.Duration, len(sizes), len(threads))\n",
        "\tfor idxSize, size := range sizes {\n",
        "\t\tinitMatrices(size)\n",
        "\t\tfor _, thread := range threads {\n",
        "\t\t\ttimes := measureTime(size, thread, scalar)\n",
        "\t\t\tresults[idxSize] = append(results[idxSize], times)\n",
        "\t\t}\n",
        "\t}\n",
        "\treturn\n",
        "}\n",
        "\n",
        "func measureTime(size int, threads int, scalar int) time.Duration {\n",
        "\tprevalidateArguments(&size, &threads)\n",
        "\tstart := time.Now()\n",
        "\tif threads == 0 {\n",
        "\t\tmultiplyMatrixSequential(scalar)\n",
        "\t} else {\n",
        "\t\tmultiplyMatrixConcurrent(scalar, threads)\n",
        "\t}\n",
        "\n",
        "\treturn time.Since(start)\n",
        "}\n",
        "\n",
        "func prevalidateArguments(size *int, threads *int) {\n",
        "\tif *size > maxSize {\n",
        "\t\t*size = maxSize\n",
        "\t}\n",
        "\t//if there are more threads than rows, set the amount of threads to the amount of rows.\n",
        "\tif *threads > *size {\n",
        "\t\t*threads = *size\n",
        "\t}\n",
        "\t//if the amount of threads is still larger than the max amount, set the amount of threads to the max amount.\n",
        "\tif *threads > maxThreads {\n",
        "\t\t*threads = maxThreads\n",
        "\t}\n",
        "}\n",
        "\n",
        "func initMatrices(size int) {\n",
        "\tinitialMatrix = initMatrixRandom(size)\n",
        "\tsequentialMatrix = initMatrixZeroes(size)\n",
        "\tconcurrentMatrix = initMatrixZeroes(size)\n",
        "}\n",
        "\n",
        "func initMatrixRandom(size int) [][]int {\n",
        "\tmat := make([][]int, size)\n",
        "\tfor idxRow := range mat {\n",
        "\t\tfor i := 0; i < size; i++ {\n",
        "\t\t\tmat[idxRow] = append(mat[idxRow], rand.Intn(maxRandomNumber))\n",
        "\t\t}\n",
        "\t}\n",
        "\treturn mat\n",
        "}\n",
        "\n",
        "func initMatrixZeroes(size int) [][]int {\n",
        "\tmat := make([][]int, size)\n",
        "\tfor idxRow := range mat {\n",
        "\t\tfor i := 0; i < size; i++ {\n",
        "\t\t\tmat[idxRow] = append(mat[idxRow], 0)\n",
        "\t\t}\n",
        "\t}\n",
        "\treturn mat\n",
        "}\n",
        "\n",
        "func multiplyMatrixSequential(scalar int) {\n",
        "\tfor idxRow, row := range initialMatrix {\n",
        "\t\tfor idxCol, val := range row {\n",
        "\t\t\tsequentialMatrix[idxRow][idxCol] = scalar * val\n",
        "\t\t}\n",
        "\t}\n",
        "}\n",
        "\n",
        "func multiplyMatrixConcurrent(scalar int, threads int) {\n",
        "\trowsPerThread := calculateRowsPerThread(len(initialMatrix), threads)\n",
        "\tvar wg sync.WaitGroup\n",
        "\tinitialRow := 0\n",
        "\tfor t := 0; t < threads; t++ {\n",
        "\t\twg.Add(1)\n",
        "\t\tgo multiplyRowsConcurrent(scalar, initialRow, initialRow+rowsPerThread[t], &wg)\n",
        "\t\tinitialRow += rowsPerThread[t]\n",
        "\t}\n",
        "\n",
        "\tdefer wg.Wait()\n",
        "}\n",
        "\n",
        "func calculateRowsPerThread(rows int, threads int) []int {\n",
        "\trpt := make([]int, threads)\n",
        "\tfor i := 0; i < threads; i++ {\n",
        "\t\tsize := int(rows / threads)\n",
        "\t\tif i < rows%threads {\n",
        "\t\t\tsize++\n",
        "\t\t}\n",
        "\t\trpt[i] = size\n",
        "\t}\n",
        "\treturn rpt\n",
        "}\n",
        "\n",
        "func multiplyRowsConcurrent(scalar int, initialRow int, finalRow int, wg *sync.WaitGroup) {\n",
        "\tdefer wg.Done()\n",
        "\tn := len(initialMatrix)\n",
        "\tfor i := initialRow; i < finalRow; i++ {\n",
        "\t\tfor j := 0; j < n; j++ {\n",
        "\t\t\tconcurrentMatrix[i][j] = initialMatrix[i][j] * scalar\n",
        "\t\t}\n",
        "\t}\n",
        "}\n",
        "\n",
        "func compareMatrices(mat1 [][]int, mat2 [][]int) bool {\n",
        "\treturn reflect.DeepEqual(mat1, mat2)\n",
        "\n",
        "}\n",
        "\n",
        "func printMatrix(mat [][]int) {\n",
        "\tfor _, row := range mat {\n",
        "\t\tfmt.Println(row)\n",
        "\t}\n",
        "\tfmt.Println(\"\")\n",
        "}\n"
      ]
    },
    {
      "cell_type": "code",
      "execution_count": null,
      "metadata": {
        "colab": {
          "base_uri": "https://localhost:8080/"
        },
        "id": "ZS6hWfF4rJOr",
        "outputId": "f1da6deb-4bee-4b43-9cf3-e8d7a3d0441f"
      },
      "outputs": [
        {
          "name": "stdout",
          "output_type": "stream",
          "text": [
            "N:10\n",
            "\tSecuencial:545ns\t1 Hilos:10.665µs\t2 Hilos:3.551µs\t4 Hilos:8.026µs\t\n",
            "N:20\n",
            "\tSecuencial:1.139µs\t1 Hilos:6.764µs\t2 Hilos:3.276µs\t4 Hilos:4.582µs\t\n",
            "N:40\n",
            "\tSecuencial:3.779µs\t1 Hilos:11.351µs\t2 Hilos:8.068µs\t4 Hilos:7.468µs\t\n",
            "N:80\n",
            "\tSecuencial:20.867µs\t1 Hilos:29.961µs\t2 Hilos:23.798µs\t4 Hilos:24.351µs\t\n"
          ]
        }
      ],
      "source": [
        "!go run hilos.go"
      ]
    },
    {
      "cell_type": "markdown",
      "metadata": {
        "id": "2p682STCzzyz"
      },
      "source": [
        "En un entorno local, la tabla se ve de esta manera:\n",
        "\n",
        "```\n",
        "N:1000\n",
        "        Secuencial:2.0086ms     100 Hilos:991µs 200 Hilos:1.0029ms      400 Hilos:1.0043ms\n",
        "N:2000\n",
        "        Secuencial:15.0057ms    100 Hilos:3.419ms       200 Hilos:2.5861ms      400 Hilos:4.0017ms\n",
        "N:4000\n",
        "        Secuencial:57.0139ms    100 Hilos:13.3978ms     200 Hilos:13.5995ms     400 Hilos:13.4383ms\n",
        "N:8000\n",
        "        Secuencial:247.0807ms   100 Hilos:52.0007ms     200 Hilos:55.0151ms     400 Hilos:54.0174ms\n",
        "```\n",
        "\n",
        "Por lo cual puede verse una reducción en el tiempo de procesamiento al incrementar la cantidad de hilos."
      ]
    },
    {
      "cell_type": "code",
      "execution_count": null,
      "metadata": {
        "colab": {
          "base_uri": "https://localhost:8080/"
        },
        "id": "B3dczYI7tcd7",
        "outputId": "c6e67883-c4f8-4fd0-f787-0b4e63ab9c5c"
      },
      "outputs": [
        {
          "name": "stdout",
          "output_type": "stream",
          "text": [
            "# command-line-arguments\n",
            "./hilos.go:186:12: undefined: sizei\n"
          ]
        }
      ],
      "source": [
        "!go run hilos.go 4000 10"
      ]
    },
    {
      "cell_type": "code",
      "execution_count": null,
      "metadata": {
        "colab": {
          "base_uri": "https://localhost:8080/"
        },
        "id": "n8vXydLYtc1z",
        "outputId": "e84cd2d8-4e85-490d-c60c-161bf42e52e5"
      },
      "outputs": [
        {
          "name": "stdout",
          "output_type": "stream",
          "text": [
            "# command-line-arguments\n",
            "./hilos.go:186:12: undefined: sizei\n"
          ]
        }
      ],
      "source": [
        "!go run hilos.go 4000 50"
      ]
    },
    {
      "cell_type": "code",
      "execution_count": null,
      "metadata": {
        "colab": {
          "base_uri": "https://localhost:8080/"
        },
        "id": "YmNcf71CtdCy",
        "outputId": "1a34d62c-55f6-4875-ab7d-f4ceefe000c7"
      },
      "outputs": [
        {
          "name": "stdout",
          "output_type": "stream",
          "text": [
            "The matrices are equal:  true\n",
            "Time elapsed for sequential:  32 ms\n",
            "Time elapsed for concurrent:  34 ms\n"
          ]
        }
      ],
      "source": [
        "!go run hilos.go 4000 200"
      ]
    },
    {
      "cell_type": "code",
      "execution_count": null,
      "metadata": {
        "colab": {
          "base_uri": "https://localhost:8080/"
        },
        "id": "_c_s94aotdbH",
        "outputId": "6487e5bb-3a1a-4797-d2bb-88821d2ef125"
      },
      "outputs": [
        {
          "name": "stdout",
          "output_type": "stream",
          "text": [
            "The matrices are equal:  true\n",
            "Time elapsed for sequential:  31 ms\n",
            "Time elapsed for concurrent:  33 ms\n"
          ]
        }
      ],
      "source": [
        "!go run hilos.go 4000 1000"
      ]
    },
    {
      "cell_type": "markdown",
      "metadata": {
        "id": "zG0DkOYK-SUn"
      },
      "source": [
        "\n",
        "# JAVA"
      ]
    },
    {
      "cell_type": "code",
      "execution_count": null,
      "metadata": {
        "colab": {
          "base_uri": "https://localhost:8080/"
        },
        "id": "8oqz63Oi-A3q",
        "outputId": "0d9a9b30-5acf-4cf7-a637-4ee896d43788"
      },
      "outputs": [
        {
          "name": "stdout",
          "output_type": "stream",
          "text": [
            "Writing hilos.java\n"
          ]
        }
      ],
      "source": [
        "%%writefile hilos.java\n",
        "\n",
        "package main;\n",
        "\n",
        "import java.util.ArrayList;\n",
        "import java.util.Random;\n",
        "\n",
        "\n",
        "/**\n",
        " * Ejecutar con parametros : n\n",
        " */\n",
        "public class Hilos {\n",
        "\n",
        "\tprivate static int[][] inicial;\n",
        "\tprivate static int[][] secuencial;\n",
        "\tprivate static int[][] concurrente;\n",
        "\tprivate static int n = 0;\n",
        "\tprivate static final int ESCALAR = 5;\n",
        "\tprivate static ArrayList<Thread> threads = new ArrayList<Thread>();\n",
        "\n",
        "\n",
        "\tpublic static class MatrixThread implements Runnable {\n",
        "\n",
        "\t\tprivate int filaDesde;\n",
        "\t\tprivate int filaHasta;\n",
        "\n",
        "\t\tpublic MatrixThread(int filaDesde,int filaHasta) {\n",
        "\t\t\tthis.filaDesde = filaDesde;\n",
        "\t\t\tthis.filaHasta = filaHasta;\n",
        "\t\t}\n",
        "\n",
        "\t\t@Override\n",
        "\t\tpublic void run() {\n",
        "\t\t\tfor(int i = filaDesde; i<=filaHasta;i++) {\n",
        "\t\t\t\tfor(int j=0;j<n;j++) {\n",
        "\t\t\t\t\tconcurrente[i][j] = inicial[i][j] * ESCALAR;\n",
        "\t\t\t\t}\n",
        "\t\t\t}\n",
        "\t\t}\n",
        "\t}\n",
        "\n",
        "\tpublic static void main(String[] args) {\n",
        "\n",
        "\t\tn = Integer.valueOf(args[0]);\n",
        "\n",
        "\t\tinicializarMatriz(n);\n",
        "\t\tlong secTime = secuentialExecute();\n",
        "\t\tlong concTimeOneThread = concurrentExecute(1);\n",
        "\t\tcheckValidityOfMatrix();\n",
        "\t\tlong concTimeTwoThreads = concurrentExecute(2);\n",
        "\t\tcheckValidityOfMatrix();\n",
        "\t\tlong concTimeFourThreads = concurrentExecute(4);\n",
        "\t\tcheckValidityOfMatrix();\n",
        "\n",
        "\t\tSystem.out.println(\"Tiempo Secuencial : \".concat(String.valueOf(secTime)).concat(\" milisegundos\"));\n",
        "\t\tSystem.out.println(\"Tiempo 1 Thread   : \".concat(String.valueOf(concTimeOneThread)).concat(\" milisegundos\"));\n",
        "\t\tSystem.out.println(\"Tiempo 2 Threads  : \".concat(String.valueOf(concTimeTwoThreads)).concat(\" milisegundos\"));\n",
        "\t\tSystem.out.println(\"Tiempo 4 Threads  : \".concat(String.valueOf(concTimeFourThreads)).concat(\" milisegundos\"));\n",
        "\n",
        "\t}\n",
        "\n",
        "\n",
        "\tprivate static void checkValidityOfMatrix() {\n",
        "\t\ttry {\n",
        "\t\t\tfor (int i = 0; i < n; i++) {\n",
        "\t\t\t\tfor (int j = 0; j < n; j++) {\n",
        "\t\t\t\t\tif(secuencial[i][j] != concurrente[i][j]) {\n",
        "\t\t\t\t\t\tthrow new Exception(\"resultado erroneo\");\n",
        "\t\t\t\t\t}\n",
        "\t\t\t\t}\n",
        "\t\t\t}\n",
        "\t\t\tSystem.out.println(\"Las matrices secuencial y concurrente son iguales\");\n",
        "\t\t}catch(Exception ex) {\n",
        "\t\t\tSystem.out.println(\"Las matrices secuencial y concurrente son distintas\");\n",
        "\t\t}\n",
        "\t}\n",
        "\n",
        "\n",
        "\tprivate static long concurrentExecute(int cantHilos) {\n",
        "\t\tint filas_por_hilos = n / cantHilos;\n",
        "\t\tfor(int i = 1;i <= cantHilos;i++) {\n",
        "\t\t\tint fila_desde = (i - 1) * filas_por_hilos;\n",
        "\t\t\tint fila_hasta = (i * filas_por_hilos) -1;\n",
        "\t\t\tthreads.add(new Thread(new MatrixThread(fila_desde,fila_hasta)));\n",
        "\t\t}\n",
        "\n",
        "\t\tlong initConcTime = System.currentTimeMillis();\n",
        "\t\tthreads.stream().forEach(t -> t.start());\n",
        "\n",
        "\n",
        "\t\tthreads.stream().forEach(t -> {\n",
        "\t\t\ttry {\n",
        "\t\t\t\tt.join();\n",
        "\t\t\t} catch (InterruptedException e) {\n",
        "\t\t\t\te.printStackTrace();\n",
        "\t\t\t}\n",
        "\t\t});\n",
        "\t\tlong endConcTime = System.currentTimeMillis();\n",
        "\t\tlong concTime = endConcTime - initConcTime;\n",
        "\t\tthreads.clear();\n",
        "\t\treturn concTime;\n",
        "\t}\n",
        "\n",
        "\n",
        "\tprivate static long secuentialExecute() {\n",
        "\t\tlong initSecTime = System.currentTimeMillis();\n",
        "\t\tfor (int i = 0; i < n; i++) {\n",
        "\t\t\tfor (int j = 0; j < n; j++) {\n",
        "\t\t\t\tsecuencial[i][j] = inicial[i][j] * ESCALAR;\n",
        "\t\t\t}\n",
        "\t\t}\n",
        "\t\tlong endSecTime = System.currentTimeMillis();\n",
        "\t\treturn endSecTime - initSecTime;\n",
        "\t}\n",
        "\n",
        "\n",
        "\tprivate static void inicializarMatriz(int n) {\n",
        "\t\tinicial = new int[n][n];\n",
        "\t\tconcurrente = new int[n][n];\n",
        "\t\tsecuencial = new int[n][n];\n",
        "\t\tfor (int i = 0; i < n; i++) {\n",
        "\t\t\tfor (int j = 0; j < n; j++) {\n",
        "\t\t\t\tinicial[i][j] = new Random().nextInt(9);\n",
        "\t\t\t}\n",
        "\t\t}\n",
        "\t}\n",
        "\n",
        "\n",
        "}\n"
      ]
    },
    {
      "cell_type": "code",
      "execution_count": null,
      "metadata": {
        "colab": {
          "base_uri": "https://localhost:8080/"
        },
        "id": "3aSKX7ckC0bN",
        "outputId": "67f72b49-b745-465a-feaa-fd0d1f798136"
      },
      "outputs": [
        {
          "name": "stdout",
          "output_type": "stream",
          "text": [
            "Las matrices secuencial y concurrente son iguales\n",
            "Las matrices secuencial y concurrente son iguales\n",
            "Las matrices secuencial y concurrente son iguales\n",
            "Tiempo Secuencial : 0 milisegundos\n",
            "Tiempo 1 Thread   : 9 milisegundos\n",
            "Tiempo 2 Threads  : 12 milisegundos\n",
            "Tiempo 4 Threads  : 17 milisegundos\n"
          ]
        }
      ],
      "source": [
        "! java hilos.java 10"
      ]
    },
    {
      "cell_type": "code",
      "execution_count": null,
      "metadata": {
        "colab": {
          "base_uri": "https://localhost:8080/"
        },
        "id": "7-yRXX0VKQzD",
        "outputId": "500cd2c4-a39c-4e31-f71c-c6cb3c486d80"
      },
      "outputs": [
        {
          "name": "stdout",
          "output_type": "stream",
          "text": [
            "Las matrices secuencial y concurrente son iguales\n",
            "Las matrices secuencial y concurrente son iguales\n",
            "Las matrices secuencial y concurrente son iguales\n",
            "Tiempo Secuencial : 1 milisegundos\n",
            "Tiempo 1 Thread   : 14 milisegundos\n",
            "Tiempo 2 Threads  : 22 milisegundos\n",
            "Tiempo 4 Threads  : 33 milisegundos\n"
          ]
        }
      ],
      "source": [
        "! java hilos.java 20"
      ]
    },
    {
      "cell_type": "code",
      "execution_count": null,
      "metadata": {
        "colab": {
          "base_uri": "https://localhost:8080/"
        },
        "id": "pUdza2H-KSdA",
        "outputId": "fc2fbccd-0cd8-415e-e68c-a973bb877885"
      },
      "outputs": [
        {
          "name": "stdout",
          "output_type": "stream",
          "text": [
            "Las matrices secuencial y concurrente son iguales\n",
            "Las matrices secuencial y concurrente son iguales\n",
            "Las matrices secuencial y concurrente son iguales\n",
            "Tiempo Secuencial : 1 milisegundos\n",
            "Tiempo 1 Thread   : 5 milisegundos\n",
            "Tiempo 2 Threads  : 21 milisegundos\n",
            "Tiempo 4 Threads  : 21 milisegundos\n"
          ]
        }
      ],
      "source": [
        "! java hilos.java 40"
      ]
    },
    {
      "cell_type": "code",
      "execution_count": null,
      "metadata": {
        "colab": {
          "base_uri": "https://localhost:8080/"
        },
        "id": "AEDBpYY5KTt5",
        "outputId": "f92ea427-17de-4e07-eb73-82c3e67b6b05"
      },
      "outputs": [
        {
          "name": "stdout",
          "output_type": "stream",
          "text": [
            "Las matrices secuencial y concurrente son iguales\n",
            "Las matrices secuencial y concurrente son iguales\n",
            "Las matrices secuencial y concurrente son iguales\n",
            "Tiempo Secuencial : 0 milisegundos\n",
            "Tiempo 1 Thread   : 2 milisegundos\n",
            "Tiempo 2 Threads  : 1 milisegundos\n",
            "Tiempo 4 Threads  : 1 milisegundos\n"
          ]
        }
      ],
      "source": [
        "! java hilos.java 80"
      ]
    },
    {
      "cell_type": "code",
      "execution_count": null,
      "metadata": {
        "colab": {
          "base_uri": "https://localhost:8080/"
        },
        "id": "7vvOMAuadzh4",
        "outputId": "006082a1-b4b8-4813-e9fe-8490aeaf87e1"
      },
      "outputs": [
        {
          "name": "stdout",
          "output_type": "stream",
          "text": [
            "Las matrices secuencial y concurrente son iguales\n",
            "Las matrices secuencial y concurrente son iguales\n",
            "Las matrices secuencial y concurrente son iguales\n",
            "Tiempo Secuencial : 4 milisegundos\n",
            "Tiempo 1 Thread   : 8 milisegundos\n",
            "Tiempo 2 Threads  : 12 milisegundos\n",
            "Tiempo 4 Threads  : 15 milisegundos\n"
          ]
        }
      ],
      "source": [
        "! java hilos.java 250"
      ]
    },
    {
      "cell_type": "code",
      "execution_count": null,
      "metadata": {
        "colab": {
          "base_uri": "https://localhost:8080/"
        },
        "id": "KIwz-MgXPMUj",
        "outputId": "cf1a7583-7b4e-4bd3-b74c-66a2fcc5eaf3"
      },
      "outputs": [
        {
          "name": "stdout",
          "output_type": "stream",
          "text": [
            "Las matrices secuencial y concurrente son iguales\n",
            "Las matrices secuencial y concurrente son iguales\n",
            "Las matrices secuencial y concurrente son iguales\n",
            "Tiempo Secuencial : 31 milisegundos\n",
            "Tiempo 1 Thread   : 31 milisegundos\n",
            "Tiempo 2 Threads  : 29 milisegundos\n",
            "Tiempo 4 Threads  : 15 milisegundos\n"
          ]
        }
      ],
      "source": [
        "! java hilos.java 1000"
      ]
    },
    {
      "cell_type": "code",
      "execution_count": null,
      "metadata": {
        "colab": {
          "base_uri": "https://localhost:8080/"
        },
        "id": "wDcfBYuiPamc",
        "outputId": "57a07d01-a5cd-44ba-f6e9-8189c903c6f8"
      },
      "outputs": [
        {
          "name": "stdout",
          "output_type": "stream",
          "text": [
            "Las matrices secuencial y concurrente son iguales\n",
            "Las matrices secuencial y concurrente son iguales\n",
            "Las matrices secuencial y concurrente son iguales\n",
            "Tiempo Secuencial : 129 milisegundos\n",
            "Tiempo 1 Thread   : 144 milisegundos\n",
            "Tiempo 2 Threads  : 123 milisegundos\n",
            "Tiempo 4 Threads  : 99 milisegundos\n"
          ]
        }
      ],
      "source": [
        "! java hilos.java 10000"
      ]
    },
    {
      "cell_type": "code",
      "execution_count": null,
      "metadata": {
        "colab": {
          "base_uri": "https://localhost:8080/"
        },
        "id": "xReAYoqVPkV0",
        "outputId": "fb81ad61-6473-4e13-98c7-6093383a40c0"
      },
      "outputs": [
        {
          "name": "stdout",
          "output_type": "stream",
          "text": [
            "Las matrices secuencial y concurrente son iguales\n",
            "Las matrices secuencial y concurrente son iguales\n",
            "Las matrices secuencial y concurrente son iguales\n",
            "Tiempo Secuencial : 228 milisegundos\n",
            "Tiempo 1 Thread   : 291 milisegundos\n",
            "Tiempo 2 Threads  : 279 milisegundos\n",
            "Tiempo 4 Threads  : 229 milisegundos\n"
          ]
        }
      ],
      "source": [
        "! java hilos.java 15000"
      ]
    },
    {
      "cell_type": "markdown",
      "metadata": {
        "id": "1TRME5Iz24iE"
      },
      "source": [
        "# C++"
      ]
    },
    {
      "cell_type": "code",
      "execution_count": null,
      "metadata": {
        "colab": {
          "base_uri": "https://localhost:8080/"
        },
        "id": "3JloZMZy26dw",
        "outputId": "8c570358-184e-4ffe-e6a7-5dad630b140e"
      },
      "outputs": [
        {
          "name": "stdout",
          "output_type": "stream",
          "text": [
            "Overwriting hilos.cpp\n"
          ]
        }
      ],
      "source": [
        "%%writefile hilos.cpp\n",
        "#include <iostream>\n",
        "#include <vector>\n",
        "#include <thread>\n",
        "#include <random>\n",
        "#include <chrono>\n",
        "#include <cstdlib>\n",
        "\n",
        "using namespace std;\n",
        "\n",
        "int N_COLUMNAS_Y_FILAS = 0;\n",
        "int N_HILOS = 0;\n",
        "int ESCALAR = 2;\n",
        "\n",
        "vector<vector<int>> GenerarMatriz()\n",
        "{\n",
        "    vector<vector<int>> matriz(N_COLUMNAS_Y_FILAS, vector<int>(N_COLUMNAS_Y_FILAS));\n",
        "\n",
        "    for (int i = 0; i < N_COLUMNAS_Y_FILAS; ++i)\n",
        "    {\n",
        "        for (int j = 0; j < N_COLUMNAS_Y_FILAS; ++j)\n",
        "        {\n",
        "            matriz[i][j] = rand() % 10;\n",
        "        }\n",
        "    }\n",
        "\n",
        "    return matriz;\n",
        "}\n",
        "\n",
        "vector<vector<int>> MultiplicarMatrizRS(vector<vector<int>> matriz)\n",
        "{\n",
        "\n",
        "    vector<vector<int>> matrizRS(N_COLUMNAS_Y_FILAS, vector<int>(N_COLUMNAS_Y_FILAS));\n",
        "\n",
        "    for (int i = 0; i < N_COLUMNAS_Y_FILAS; ++i)\n",
        "    {\n",
        "        for (int j = 0; j < N_COLUMNAS_Y_FILAS; ++j)\n",
        "        {\n",
        "                matrizRS[i][j] += matriz[i][j] * ESCALAR;\n",
        "        }\n",
        "    }\n",
        "\n",
        "    return matrizRS;\n",
        "}\n",
        "\n",
        "void MultiplicarFila(vector<vector<int>> &matriz, vector<vector<int>> &matrizRC, int inicio, int final)\n",
        "{\n",
        "    for (int i = inicio; i < final; i++)\n",
        "        for (int j = 0; j < N_COLUMNAS_Y_FILAS; j++)\n",
        "        {\n",
        "            matrizRC[i][j] += matriz[i][j] * ESCALAR;\n",
        "        }\n",
        "}\n",
        "\n",
        "vector<vector<int>> GenerarMatrizRC(vector<vector<int>> matriz)\n",
        "{\n",
        "    vector<thread> threads;\n",
        "\n",
        "    div_t resultado = div(N_COLUMNAS_Y_FILAS, N_HILOS);\n",
        "\n",
        "    vector<vector<int>> matrizRC(N_COLUMNAS_Y_FILAS, vector<int>(N_COLUMNAS_Y_FILAS));\n",
        "\n",
        "    int cociente = resultado.quot;\n",
        "    int resto = resultado.rem;\n",
        "\n",
        "    int inicio = 0;\n",
        "    int final = 0;\n",
        "\n",
        "    for (int i = 0; i < N_HILOS; ++i)\n",
        "    {\n",
        "        if (i == N_HILOS - 1)\n",
        "        {\n",
        "            final += cociente + resto;\n",
        "        }\n",
        "        else\n",
        "        {\n",
        "            final += cociente;\n",
        "        }\n",
        "\n",
        "        threads.emplace_back(MultiplicarFila, ref(matriz),ref(matrizRC), inicio, final);\n",
        "\n",
        "        inicio = final;\n",
        "\n",
        "\n",
        "    }\n",
        "\n",
        "    for (auto &thread : threads)\n",
        "    {\n",
        "        thread.join();\n",
        "    }\n",
        "\n",
        "    return matrizRC;\n",
        "}\n",
        "\n",
        "bool CompararMatrices(vector<vector<int>> matrizRS, vector<vector<int>> matrizRC){\n",
        "\n",
        "    for (int i = 0; i < N_COLUMNAS_Y_FILAS; ++i)\n",
        "    {\n",
        "        for (int j = 0; j < N_COLUMNAS_Y_FILAS; ++j)\n",
        "        {\n",
        "            if(matrizRS[i][j] != matrizRC[i][j])\n",
        "            {\n",
        "                cout<< matrizRC[i][j] << \" != \" << matrizRS[i][j] << endl;\n",
        "                return false;\n",
        "            }\n",
        "        }\n",
        "    }\n",
        "    return true;\n",
        "}\n",
        "\n",
        "int main(int argc, char *argv[])\n",
        "{\n",
        "    if (argc != 3)\n",
        "    {\n",
        "        std::cerr << \"Uso: \" << argv[0] << \" <cantidad_filas> <cantidad_hilos>\" << std::endl;\n",
        "        return 0;\n",
        "    }\n",
        "\n",
        "    N_COLUMNAS_Y_FILAS = atoi(argv[1]);\n",
        "    N_HILOS = atoi(argv[2]);\n",
        "\n",
        "    vector<vector<int>> matriz = GenerarMatriz();\n",
        "\n",
        "    auto start_sequential = chrono::steady_clock::now();\n",
        "    vector<vector<int>> matrizRS = MultiplicarMatrizRS(matriz);\n",
        "    auto end_sequential = chrono::steady_clock::now();\n",
        "    chrono::duration<double> sequential_time = end_sequential - start_sequential;\n",
        "    auto start_concurrent = chrono::steady_clock::now();\n",
        "    vector<vector<int>> matrizRC = GenerarMatrizRC(matriz);\n",
        "    auto end_concurrent = chrono::steady_clock::now();\n",
        "    chrono::duration<double> concurrent_time = end_concurrent - start_concurrent;\n",
        "\n",
        "    if(CompararMatrices(matrizRS, matrizRC))\n",
        "    {\n",
        "        cout << \"Tiempo secuencial: \" << sequential_time.count() << \" segundos\" << endl;\n",
        "        cout << \"Tiempo concurrente: \" << concurrent_time.count() << \" segundos\" << endl;\n",
        "    }\n",
        "    else\n",
        "    {\n",
        "        cout << \"Las matrices son diferentes\" << endl;\n",
        "    }\n",
        "\n",
        "    return 0;\n",
        "}"
      ]
    },
    {
      "cell_type": "code",
      "execution_count": null,
      "metadata": {
        "id": "8eVpSueR-J2Q"
      },
      "outputs": [],
      "source": [
        "!g++ -o hilos.bin hilos.cpp"
      ]
    },
    {
      "cell_type": "code",
      "execution_count": null,
      "metadata": {
        "colab": {
          "base_uri": "https://localhost:8080/"
        },
        "id": "N_G1mVjD-OCp",
        "outputId": "b68a3ba9-1e39-4420-a2a5-361f64936813"
      },
      "outputs": [
        {
          "name": "stdout",
          "output_type": "stream",
          "text": [
            "Tiempo secuencial: 1.0217e-05 segundos\n",
            "Tiempo concurrente: 0.000161757 segundos\n"
          ]
        }
      ],
      "source": [
        "!./hilos.bin 10 1"
      ]
    },
    {
      "cell_type": "code",
      "execution_count": null,
      "metadata": {
        "colab": {
          "base_uri": "https://localhost:8080/"
        },
        "id": "3Vxh8CywQxOR",
        "outputId": "224d62ba-d646-47c6-bcfd-c998eafa9be7"
      },
      "outputs": [
        {
          "name": "stdout",
          "output_type": "stream",
          "text": [
            "Tiempo secuencial: 1.0417e-05 segundos\n",
            "Tiempo concurrente: 0.000807843 segundos\n"
          ]
        }
      ],
      "source": [
        "!./hilos.bin 10 2"
      ]
    },
    {
      "cell_type": "code",
      "execution_count": null,
      "metadata": {
        "colab": {
          "base_uri": "https://localhost:8080/"
        },
        "id": "HhOGG8JCQzbC",
        "outputId": "74fa7080-5280-4872-8582-afdf6f886a8b"
      },
      "outputs": [
        {
          "name": "stdout",
          "output_type": "stream",
          "text": [
            "Tiempo secuencial: 1.0813e-05 segundos\n",
            "Tiempo concurrente: 0.000743163 segundos\n"
          ]
        }
      ],
      "source": [
        "!./hilos.bin 10 4"
      ]
    },
    {
      "cell_type": "code",
      "execution_count": null,
      "metadata": {
        "colab": {
          "base_uri": "https://localhost:8080/"
        },
        "id": "lyJWR2KPQ1rG",
        "outputId": "90260837-6d64-4471-cd0e-8c2960a06aa7"
      },
      "outputs": [
        {
          "name": "stdout",
          "output_type": "stream",
          "text": [
            "Tiempo secuencial: 2.2707e-05 segundos\n",
            "Tiempo concurrente: 0.000185149 segundos\n"
          ]
        }
      ],
      "source": [
        "!./hilos.bin 20 1"
      ]
    },
    {
      "cell_type": "code",
      "execution_count": null,
      "metadata": {
        "colab": {
          "base_uri": "https://localhost:8080/"
        },
        "id": "QGCycxlqQ4sJ",
        "outputId": "c420bae3-6206-4d6c-c708-339bb964ad1c"
      },
      "outputs": [
        {
          "name": "stdout",
          "output_type": "stream",
          "text": [
            "Tiempo secuencial: 2.5739e-05 segundos\n",
            "Tiempo concurrente: 0.0011763 segundos\n"
          ]
        }
      ],
      "source": [
        "!./hilos.bin 20 2"
      ]
    },
    {
      "cell_type": "code",
      "execution_count": null,
      "metadata": {
        "colab": {
          "base_uri": "https://localhost:8080/"
        },
        "id": "3Q_zE6kRQ56U",
        "outputId": "ac40240b-db96-4302-c1e0-45bb909e635e"
      },
      "outputs": [
        {
          "name": "stdout",
          "output_type": "stream",
          "text": [
            "Tiempo secuencial: 2.6863e-05 segundos\n",
            "Tiempo concurrente: 0.00376818 segundos\n"
          ]
        }
      ],
      "source": [
        "!./hilos.bin 20 4"
      ]
    },
    {
      "cell_type": "code",
      "execution_count": null,
      "metadata": {
        "colab": {
          "base_uri": "https://localhost:8080/"
        },
        "id": "0n6WUENpQ6zw",
        "outputId": "9b410439-93f6-4e6a-c295-1411cb1c5d9d"
      },
      "outputs": [
        {
          "name": "stdout",
          "output_type": "stream",
          "text": [
            "Tiempo secuencial: 5.8924e-05 segundos\n",
            "Tiempo concurrente: 0.000233547 segundos\n"
          ]
        }
      ],
      "source": [
        "!./hilos.bin 40 1"
      ]
    },
    {
      "cell_type": "code",
      "execution_count": null,
      "metadata": {
        "colab": {
          "base_uri": "https://localhost:8080/"
        },
        "id": "3Nu-RyEXQ9dy",
        "outputId": "0959e9aa-1797-4b3e-a333-6b4436083556"
      },
      "outputs": [
        {
          "name": "stdout",
          "output_type": "stream",
          "text": [
            "Tiempo secuencial: 6.9024e-05 segundos\n",
            "Tiempo concurrente: 0.000296206 segundos\n"
          ]
        }
      ],
      "source": [
        "!./hilos.bin 40 2"
      ]
    },
    {
      "cell_type": "code",
      "execution_count": null,
      "metadata": {
        "colab": {
          "base_uri": "https://localhost:8080/"
        },
        "id": "rdTufdgmRDox",
        "outputId": "cd190b72-e91b-470a-9604-f4e6d9324731"
      },
      "outputs": [
        {
          "name": "stdout",
          "output_type": "stream",
          "text": [
            "Tiempo secuencial: 6.0268e-05 segundos\n",
            "Tiempo concurrente: 0.000518899 segundos\n"
          ]
        }
      ],
      "source": [
        "!./hilos.bin 40 4"
      ]
    },
    {
      "cell_type": "code",
      "execution_count": null,
      "metadata": {
        "colab": {
          "base_uri": "https://localhost:8080/"
        },
        "id": "9yQaKUC6RFZn",
        "outputId": "9b74d124-91c0-496d-8a09-ee02066e04e1"
      },
      "outputs": [
        {
          "name": "stdout",
          "output_type": "stream",
          "text": [
            "Tiempo secuencial: 0.000204216 segundos\n",
            "Tiempo concurrente: 0.000939087 segundos\n"
          ]
        }
      ],
      "source": [
        "!./hilos.bin 80 1"
      ]
    },
    {
      "cell_type": "code",
      "execution_count": null,
      "metadata": {
        "colab": {
          "base_uri": "https://localhost:8080/"
        },
        "id": "6FJ8GRJLRHDa",
        "outputId": "abc9cb94-ea12-4ff4-f597-4c92757d6246"
      },
      "outputs": [
        {
          "name": "stdout",
          "output_type": "stream",
          "text": [
            "Tiempo secuencial: 0.000234915 segundos\n",
            "Tiempo concurrente: 0.000433637 segundos\n"
          ]
        }
      ],
      "source": [
        "!./hilos.bin 80 2"
      ]
    },
    {
      "cell_type": "code",
      "execution_count": null,
      "metadata": {
        "colab": {
          "base_uri": "https://localhost:8080/"
        },
        "id": "R1IG68qLRIjj",
        "outputId": "c84d84be-36e3-4858-9b49-38208458959b"
      },
      "outputs": [
        {
          "name": "stdout",
          "output_type": "stream",
          "text": [
            "Tiempo secuencial: 0.000223132 segundos\n",
            "Tiempo concurrente: 0.000528782 segundos\n"
          ]
        }
      ],
      "source": [
        "!./hilos.bin 80 4"
      ]
    },
    {
      "cell_type": "markdown",
      "metadata": {
        "id": "9a6nY71inBlq"
      },
      "source": [
        "\n",
        "\n",
        "\n",
        "\n",
        "# Python"
      ]
    },
    {
      "cell_type": "code",
      "execution_count": null,
      "metadata": {
        "colab": {
          "base_uri": "https://localhost:8080/"
        },
        "id": "J91U94WwnJzJ",
        "outputId": "53dec3cb-96ec-4616-bf50-e24163e913d4"
      },
      "outputs": [
        {
          "name": "stdout",
          "output_type": "stream",
          "text": [
            "Writing hilos.py\n"
          ]
        }
      ],
      "source": [
        "%%writefile hilos.py\n",
        "\n",
        "import threading\n",
        "from random import randrange\n",
        "import numpy\n",
        "import sys\n",
        "import argparse\n",
        "import math\n",
        "import time\n",
        "\n",
        "\n",
        "n = 0\n",
        "inicial = [[]]\n",
        "concurrente = [[]]\n",
        "secuencial = [[]]\n",
        "ESCALAR = 5\n",
        "\n",
        "def multiplyRows(id,filaDesde,filaHasta):\n",
        "    global concurrente,inicial,ESCALAR,n\n",
        "    for i in range(filaDesde,filaHasta + 1):\n",
        "          for j in range(n):\n",
        "            concurrente[i][j] = (inicial[i][j] * ESCALAR);\n",
        "\n",
        "\n",
        "def concurrentExecute(threads) :\n",
        "    global inicial,concurrente,secuencial,ESCALAR,n\n",
        "    my_threads = []\n",
        "    filasPorHilos = n / threads\n",
        "    for i in range(1,threads + 1):\n",
        "      filaDesde = math.ceil((i - 1) * filasPorHilos)\n",
        "      filaHasta = math.ceil((i * filasPorHilos) -1)\n",
        "      my_threads.append(threading.Thread(target=multiplyRows,args=(i,filaDesde,filaHasta)));\n",
        "\n",
        "    for i in range(threads):\n",
        "      my_threads[i].start()\n",
        "\n",
        "    for i in range(threads):\n",
        "      my_threads[i].join()\n",
        "\n",
        "def checkValidityOfMatrix():\n",
        "   global n\n",
        "   for i in range(n):\n",
        "      for j in range(n):\n",
        "         if secuencial[i][j] != concurrente[i][j] :\n",
        "           print(\"ERROR\",i,j)\n",
        "           break\n",
        "\n",
        "def main():\n",
        "    global inicial,concurrente,secuencial,ESCALAR,n\n",
        "    parser = argparse.ArgumentParser(\"argumentos_matriz\")\n",
        "    parser.add_argument(\"n\", help=\"\", type=int)\n",
        "    args = parser.parse_args()\n",
        "    n = args.n\n",
        "    inicial = numpy.zeros((args.n, args.n))\n",
        "    concurrente = numpy.zeros((args.n, args.n))\n",
        "    secuencial = numpy.zeros((args.n, args.n))\n",
        "\n",
        "    for i in range(args.n):\n",
        "      for j in range(args.n):\n",
        "        inicial[i][j] = randrange(10)\n",
        "\n",
        "    startSecuencial = time.time()\n",
        "    for i in range(args.n):\n",
        "      for j in range(args.n):\n",
        "         secuencial[i][j] = (inicial[i][j] * ESCALAR);\n",
        "    endSecuencial = time.time()\n",
        "    print(\"Tiempo secuencial : \", (endSecuencial - startSecuencial) * 1000 , \"    milisegundos\")\n",
        "\n",
        "\n",
        "    start1Thread = time.time()\n",
        "    concurrentExecute(1)\n",
        "    end1Thread = time.time()\n",
        "    print(\"Tiempo 1 thread   : \",  (end1Thread - start1Thread) * 1000 , \"    milisegundos\")\n",
        "    checkValidityOfMatrix()\n",
        "\n",
        "    start2Threads = time.time()\n",
        "    concurrentExecute(2)\n",
        "    end2Threads = time.time()\n",
        "    print(\"Tiempo 2 threads  : \", (end2Threads - start2Threads) * 1000 , \"    milisegundos\")\n",
        "    checkValidityOfMatrix()\n",
        "\n",
        "    start4Threads = time.time()\n",
        "    concurrentExecute(4)\n",
        "    end4Threads = time.time()\n",
        "    print(\"Tiempo 4 threads  : \", (end4Threads - start4Threads) * 1000 , \"    milisegundos\")\n",
        "    checkValidityOfMatrix()\n",
        "\n",
        "\n",
        "if __name__==\"__main__\":\n",
        "    main()"
      ]
    },
    {
      "cell_type": "code",
      "execution_count": null,
      "metadata": {
        "colab": {
          "base_uri": "https://localhost:8080/"
        },
        "id": "3T6MgvGQCFYU",
        "outputId": "74db5d89-8ceb-47c3-8bbe-1c7c1faac75b"
      },
      "outputs": [
        {
          "name": "stdout",
          "output_type": "stream",
          "text": [
            "Tiempo secuencial :  0.06508827209472656     milisegundos\n",
            "Tiempo 1 thread   :  0.42748451232910156     milisegundos\n",
            "Tiempo 2 threads  :  0.39649009704589844     milisegundos\n",
            "Tiempo 4 threads  :  0.5218982696533203     milisegundos\n"
          ]
        }
      ],
      "source": [
        "!python hilos.py 10"
      ]
    },
    {
      "cell_type": "code",
      "execution_count": null,
      "metadata": {
        "colab": {
          "background_save": true
        },
        "id": "k6kS7scRZ5-4",
        "outputId": "970b0f3b-f899-42b6-bcdc-6cc5ed8c128d"
      },
      "outputs": [
        {
          "name": "stdout",
          "output_type": "stream",
          "text": [
            "Tiempo secuencial :  0.46324729919433594     milisegundos\n",
            "Tiempo 1 thread   :  0.7917881011962891     milisegundos\n",
            "Tiempo 2 threads  :  0.8273124694824219     milisegundos\n",
            "Tiempo 4 threads  :  0.9648799896240234     milisegundos\n"
          ]
        }
      ],
      "source": [
        "!python hilos.py 20"
      ]
    },
    {
      "cell_type": "code",
      "execution_count": null,
      "metadata": {
        "colab": {
          "base_uri": "https://localhost:8080/"
        },
        "id": "1j_SaixHZ7ow",
        "outputId": "73ea351e-9833-44b1-c5f1-9389597b97cb"
      },
      "outputs": [
        {
          "name": "stdout",
          "output_type": "stream",
          "text": [
            "Tiempo secuencial :  0.9636878967285156     milisegundos\n",
            "Tiempo 1 thread   :  1.3954639434814453     milisegundos\n",
            "Tiempo 2 threads  :  1.3537406921386719     milisegundos\n",
            "Tiempo 4 threads  :  1.6393661499023438     milisegundos\n"
          ]
        }
      ],
      "source": [
        "!python hilos.py 40"
      ]
    },
    {
      "cell_type": "code",
      "execution_count": null,
      "metadata": {
        "colab": {
          "base_uri": "https://localhost:8080/"
        },
        "id": "MzBNtyCSZ-Dg",
        "outputId": "02cdb151-47eb-4ce8-ed06-b78ff4d74850"
      },
      "outputs": [
        {
          "name": "stdout",
          "output_type": "stream",
          "text": [
            "Tiempo secuencial :  5.739688873291016     milisegundos\n",
            "Tiempo 1 thread   :  4.463672637939453     milisegundos\n",
            "Tiempo 2 threads  :  4.548311233520508     milisegundos\n",
            "Tiempo 4 threads  :  4.715204238891602     milisegundos\n"
          ]
        }
      ],
      "source": [
        "!python hilos.py 80"
      ]
    },
    {
      "cell_type": "code",
      "execution_count": null,
      "metadata": {
        "colab": {
          "base_uri": "https://localhost:8080/"
        },
        "id": "pp8cVZP1d49X",
        "outputId": "29ec031b-1d50-448e-9149-5a8aa03cdd27"
      },
      "outputs": [
        {
          "name": "stdout",
          "output_type": "stream",
          "text": [
            "Tiempo secuencial :  49.53145980834961     milisegundos\n",
            "Tiempo 1 thread   :  39.78109359741211     milisegundos\n",
            "Tiempo 2 threads  :  38.82169723510742     milisegundos\n",
            "Tiempo 4 threads  :  40.88473320007324     milisegundos\n"
          ]
        }
      ],
      "source": [
        "!python hilos.py 250"
      ]
    },
    {
      "cell_type": "code",
      "execution_count": null,
      "metadata": {
        "colab": {
          "base_uri": "https://localhost:8080/"
        },
        "id": "X0O48ad9Qwi7",
        "outputId": "33becf04-7430-43e9-fa76-7016fad5a7d7"
      },
      "outputs": [
        {
          "name": "stdout",
          "output_type": "stream",
          "text": [
            "Tiempo secuencial :  655.1439762115479     milisegundos\n",
            "Tiempo 1 thread   :  665.764570236206     milisegundos\n",
            "Tiempo 2 threads  :  1250.0131130218506     milisegundos\n",
            "Tiempo 4 threads  :  667.5403118133545     milisegundos\n"
          ]
        }
      ],
      "source": [
        "!python hilos.py 1000"
      ]
    },
    {
      "cell_type": "code",
      "execution_count": null,
      "metadata": {
        "colab": {
          "base_uri": "https://localhost:8080/"
        },
        "id": "bTQu4hkfTb0z",
        "outputId": "2c7b257e-f45b-47d6-c126-ba8a260ac7dc"
      },
      "outputs": [
        {
          "name": "stdout",
          "output_type": "stream",
          "text": [
            "Tiempo secuencial :  18552.059173583984     milisegundos\n",
            "Tiempo 1 thread   :  19540.358543395996     milisegundos\n",
            "Tiempo 2 threads  :  18374.186515808105     milisegundos\n",
            "Tiempo 4 threads  :  18382.7543258667     milisegundos\n"
          ]
        }
      ],
      "source": [
        "!python hilos.py 5000"
      ]
    }
  ],
  "metadata": {
    "colab": {
      "collapsed_sections": [
        "fFddcX0u4NPv",
        "zG0DkOYK-SUn",
        "9a6nY71inBlq"
      ],
      "provenance": []
    },
    "kernelspec": {
      "display_name": "Python 3",
      "name": "python3"
    },
    "language_info": {
      "name": "python"
    }
  },
  "nbformat": 4,
  "nbformat_minor": 0
}