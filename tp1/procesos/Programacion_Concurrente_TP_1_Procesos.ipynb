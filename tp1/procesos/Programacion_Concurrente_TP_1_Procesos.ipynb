{
  "cells": [
    {
      "cell_type": "markdown",
      "metadata": {
        "id": "sK7Qbl3zKRbb"
      },
      "source": [
        "###TP 1 Procesos\n"
      ]
    },
    {
      "cell_type": "markdown",
      "source": [
        "## C"
      ],
      "metadata": {
        "id": "dy5Ddj1PRaF3"
      }
    },
    {
      "cell_type": "markdown",
      "metadata": {
        "id": "wb6bXd-0gHpD"
      },
      "source": [
        "**ESCRIBO EL CODIGO EN UN ARCHIVO \".c\"**"
      ]
    },
    {
      "cell_type": "code",
      "execution_count": null,
      "metadata": {
        "colab": {
          "base_uri": "https://localhost:8080/"
        },
        "id": "zR5ocNgpKWdt",
        "outputId": "c7493658-3e42-4374-da93-121efd12fa58"
      },
      "outputs": [
        {
          "output_type": "stream",
          "name": "stdout",
          "text": [
            "Writing procesos.c\n"
          ]
        }
      ],
      "source": [
        "%%writefile procesos.c\n",
        "#include <stdlib.h>\n",
        "#include <stdio.h>\n",
        "#include <unistd.h>\n",
        "#include <sys/wait.h>\n",
        "#include <string.h>\n",
        "\n",
        "void ManejarOpcion(char);\n",
        "void GenerarHijos(char *);\n",
        "\n",
        "void ManejarOpcion(char opcion)\n",
        "{\n",
        "    switch (opcion) {\n",
        "        case 'B':\n",
        "            GenerarHijos(\"EF\");\n",
        "            break;\n",
        "        case 'D':\n",
        "            GenerarHijos(\"G\");\n",
        "            break;\n",
        "        case 'F':\n",
        "            GenerarHijos(\"HI\");\n",
        "            break;\n",
        "        case 'I':\n",
        "            GenerarHijos(\"J\");\n",
        "            break;\n",
        "        default:\n",
        "            break;\n",
        "    }\n",
        "}\n",
        "\n",
        "void GenerarHijos(char *hijos)\n",
        "{\n",
        "    int cantidad_hijos = strlen(hijos);\n",
        "    while(*hijos!='\\0')\n",
        "    {\n",
        "        char caracter = *hijos;\n",
        "        pid_t pid = fork();\n",
        "        if(pid==0)\n",
        "        {\n",
        "                pid_t pidMio = getpid();\n",
        "                pid_t pidPadre = getppid();\n",
        "                printf(\"Soy el proceso %c mi pid es: %d y el de mi padre es: %d\\n\",caracter,pidMio, pidPadre);\n",
        "                ManejarOpcion(caracter);\n",
        "                sleep(50);\n",
        "                exit(0);\n",
        "        }\n",
        "        hijos++;\n",
        "    }\n",
        "\n",
        "    for(int i=0;i<cantidad_hijos;i++){\n",
        "        wait(NULL);\n",
        "    }\n",
        "}\n",
        "\n",
        "int main(int argc, char *argv[])\n",
        "{\n",
        "    printf(\"Soy el proceso A mi pid es: %d\\n\", getpid());\n",
        "    GenerarHijos(\"BCD\");\n",
        "\n",
        "    return EXIT_SUCCESS;\n",
        "}"
      ]
    },
    {
      "cell_type": "code",
      "execution_count": null,
      "metadata": {
        "id": "KCvKfPHaKb6v"
      },
      "outputs": [],
      "source": [
        "!gcc -o procesos procesos.c"
      ]
    },
    {
      "cell_type": "markdown",
      "metadata": {
        "id": "uArRzg1GgNNn"
      },
      "source": [
        "**EJECUTO EL COMANDO \"NOHUP\", PARA ASEGURAR QUE EL PROCESO SE EJECUTE EN SEGUNDO PLANO, SIN BLOQUEAR LA TERMINAL**"
      ]
    },
    {
      "cell_type": "code",
      "execution_count": null,
      "metadata": {
        "id": "yU5Q_P5_Kju8"
      },
      "outputs": [],
      "source": [
        "!nohup ./procesos 2>/dev/null &"
      ]
    },
    {
      "cell_type": "markdown",
      "metadata": {
        "id": "LGWZ80y7gQvf"
      },
      "source": [
        "**MUESTRO LOS PROCESOS**"
      ]
    },
    {
      "cell_type": "code",
      "execution_count": null,
      "metadata": {
        "colab": {
          "base_uri": "https://localhost:8080/"
        },
        "id": "cp1EyfWauTZR",
        "outputId": "74d3635d-68e5-4bdd-e416-e4ca82cdacc4"
      },
      "outputs": [
        {
          "output_type": "stream",
          "name": "stdout",
          "text": [
            "root        3541  0.0  0.0   2780   940 ?        S    18:56   0:00 ./procesos\n",
            "root        3542  0.0  0.0   2780   108 ?        S    18:56   0:00 ./procesos\n",
            "root        3543  0.0  0.0   2780   108 ?        S    18:56   0:00 ./procesos\n",
            "root        3544  0.0  0.0   2780   108 ?        S    18:56   0:00 ./procesos\n",
            "root        3545  0.0  0.0   2780   108 ?        S    18:56   0:00 ./procesos\n",
            "root        3546  0.0  0.0   2780   108 ?        S    18:56   0:00 ./procesos\n",
            "root        3547  0.0  0.0   2780   108 ?        S    18:56   0:00 ./procesos\n",
            "root        3548  0.0  0.0   2780   108 ?        S    18:56   0:00 ./procesos\n",
            "root        3549  0.0  0.0   2780   108 ?        S    18:56   0:00 ./procesos\n",
            "root        3550  0.0  0.0   2780   108 ?        S    18:56   0:00 ./procesos\n",
            "root        3561  0.0  0.0   1208   368 ?        D    18:56   0:00 grep procesos\n"
          ]
        }
      ],
      "source": [
        "!ps -aux | grep procesos"
      ]
    },
    {
      "cell_type": "markdown",
      "metadata": {
        "id": "IPCbfF76gUH0"
      },
      "source": [
        "**MUESTRO EL ÁRBOL DE PROCESOS GENERADO**"
      ]
    },
    {
      "cell_type": "code",
      "execution_count": null,
      "metadata": {
        "id": "RjpvcWHZ1Fw3",
        "colab": {
          "base_uri": "https://localhost:8080/"
        },
        "outputId": "0d2f6609-c9ed-4e23-9826-17b0c1b71c17"
      },
      "outputs": [
        {
          "output_type": "stream",
          "name": "stdout",
          "text": [
            "procesos(3541)─┬─procesos(3542)─┬─procesos(3546)\n",
            "               │                └─procesos(3547)─┬─procesos(3548)\n",
            "               │                                 └─procesos(3549)───procesos(3550)\n",
            "               ├─procesos(3543)\n",
            "               └─procesos(3544)───procesos(3545)\n"
          ]
        }
      ],
      "source": [
        "!pstree -p 3541"
      ]
    },
    {
      "cell_type": "markdown",
      "metadata": {
        "id": "-7MoYDso2ciO"
      },
      "source": [
        "##Java"
      ]
    },
    {
      "cell_type": "markdown",
      "metadata": {
        "id": "2WTArA_xiZF-"
      },
      "source": [
        "###**ESCRIBO EL CODIGO EN UN ARCHIVO \".java\"**"
      ]
    },
    {
      "cell_type": "code",
      "execution_count": null,
      "metadata": {
        "id": "tKiKyf922d4j",
        "colab": {
          "base_uri": "https://localhost:8080/"
        },
        "outputId": "fabef48f-4c21-43d7-d869-46494bd5dda0"
      },
      "outputs": [
        {
          "output_type": "stream",
          "name": "stdout",
          "text": [
            "Writing ProcessTree.java\n"
          ]
        }
      ],
      "source": [
        "%%writefile ProcessTree.java\n",
        "import java.io.IOException;\n",
        "\n",
        "public class ProcessTree\n",
        "{\n",
        "    public static void main(String[] args)\n",
        "    {\n",
        "        try\n",
        "        {\n",
        "\n",
        "            // Ejecutar el proceso A\n",
        "            ProcessBuilder pbA = new ProcessBuilder(\"java\", \"ProcessA.java\");\n",
        "            pbA.redirectErrorStream(true);\n",
        "            pbA.inheritIO();\n",
        "            Process pA = pbA.start();\n",
        "\n",
        "            pA.waitFor();\n",
        "\n",
        "\n",
        "        }\n",
        "        catch (IOException | InterruptedException e)\n",
        "        {\n",
        "            e.printStackTrace();\n",
        "        }\n",
        "    }\n",
        "}\n"
      ]
    },
    {
      "cell_type": "code",
      "source": [
        "%%writefile ProcessA.java\n",
        "import java.io.IOException;\n",
        "\n",
        "public class ProcessA\n",
        "{\n",
        "    public static void main(String[] args)\n",
        "    {\n",
        "        try\n",
        "        {\n",
        "            long startTime = System.currentTimeMillis();\n",
        "\n",
        "        \tlong pid = ProcessHandle.current().pid();\n",
        "            long parentPid = ProcessHandle.current().parent().map(ProcessHandle::pid).orElse(-1L);\n",
        "            System.out.println(\"PID A -> \" + pid + \" PPID -> \" + parentPid);\n",
        "\n",
        "            ProcessBuilder pbB = new ProcessBuilder(\"java\", \"ProcessB.java\");\n",
        "            pbB.redirectErrorStream(true);\n",
        "            pbB.inheritIO();\n",
        "            ProcessBuilder pbC = new ProcessBuilder(\"java\", \"ProcessC.java\");\n",
        "            pbC.redirectErrorStream(true);\n",
        "            pbC.inheritIO();\n",
        "\n",
        "            ProcessBuilder pbD = new ProcessBuilder(\"java\", \"ProcessD.java\");\n",
        "            pbD.redirectErrorStream(true);\n",
        "            pbD.inheritIO();\n",
        "\n",
        "            Process pB = pbB.start();\n",
        "            Process pC = pbC.start();\n",
        "            Process pD = pbD.start();\n",
        "\n",
        "            // Esperar a que los procesos B, C, D terminen\n",
        "            pB.waitFor();\n",
        "            pC.waitFor();\n",
        "            pD.waitFor();\n",
        "\n",
        "            long endTime = System.currentTimeMillis(); // Capture end time\n",
        "\n",
        "            // Calculate and print the execution time\n",
        "            long executionTime = endTime - startTime;\n",
        "            System.out.println(\"Total execution time of ProcessA: \" + executionTime + \" milliseconds\");\n",
        "        }\n",
        "        catch (IOException | InterruptedException e)\n",
        "        {\n",
        "            e.printStackTrace();\n",
        "        }\n",
        "    }\n",
        "}"
      ],
      "metadata": {
        "id": "AH-Pryh2kJyt",
        "colab": {
          "base_uri": "https://localhost:8080/"
        },
        "outputId": "33d531cc-1786-4bcd-c7d2-35fb68746750"
      },
      "execution_count": null,
      "outputs": [
        {
          "output_type": "stream",
          "name": "stdout",
          "text": [
            "Writing ProcessA.java\n"
          ]
        }
      ]
    },
    {
      "cell_type": "code",
      "source": [
        "%%writefile ProcessB.java\n",
        "import java.io.IOException;\n",
        "\n",
        "public class ProcessB\n",
        " {\n",
        "\tpublic static void main(String[] args)\n",
        "   {\n",
        "        try\n",
        "         {\n",
        "\n",
        "        \tlong pid = ProcessHandle.current().pid();\n",
        "            long parentPid = ProcessHandle.current().parent().map(ProcessHandle::pid).orElse(-1L);\n",
        "            System.out.println(\"PID B -> \" + pid + \" PPID -> \" + parentPid);\n",
        "\n",
        "            // Crear los procesos E, F\n",
        "            ProcessBuilder pbE = new ProcessBuilder(\"java\", \"ProcessE.java\");\n",
        "            pbE.redirectErrorStream(true);\n",
        "            pbE.inheritIO();\n",
        "\n",
        "            ProcessBuilder pbF = new ProcessBuilder(\"java\", \"ProcessF.java\");\n",
        "            pbF.redirectErrorStream(true);\n",
        "            pbF.inheritIO();\n",
        "\n",
        "            Process pE = pbE.start();\n",
        "            Process pF = pbF.start();\n",
        "\n",
        "            // Esperar a que los procesos E, F terminen\n",
        "            pE.waitFor();\n",
        "            pF.waitFor();\n",
        "        }\n",
        "        catch (IOException | InterruptedException e)\n",
        "        {\n",
        "            e.printStackTrace();\n",
        "        }\n",
        "    }\n",
        "}\n"
      ],
      "metadata": {
        "id": "QspkIP9-kQbG",
        "colab": {
          "base_uri": "https://localhost:8080/"
        },
        "outputId": "d7dd5bbe-a8d3-4b65-c222-b1c95a409a6a"
      },
      "execution_count": null,
      "outputs": [
        {
          "output_type": "stream",
          "name": "stdout",
          "text": [
            "Writing ProcessB.java\n"
          ]
        }
      ]
    },
    {
      "cell_type": "code",
      "source": [
        "%%writefile ProcessC.java\n",
        "public class ProcessC\n",
        "{\n",
        "\t public static void main(String[] args)\n",
        "\t {\n",
        "\t    \tlong pid = ProcessHandle.current().pid();\n",
        "\t        long parentPid = ProcessHandle.current().parent().map(ProcessHandle::pid).orElse(-1L);\n",
        "\t        System.out.println(\"PID C -> \" + pid + \" PPID -> \" + parentPid);\n",
        "\t }\n",
        "}\n"
      ],
      "metadata": {
        "id": "67doX1yIkSgE",
        "colab": {
          "base_uri": "https://localhost:8080/"
        },
        "outputId": "44456d40-925d-4601-ed41-ef5847726ff3"
      },
      "execution_count": null,
      "outputs": [
        {
          "output_type": "stream",
          "name": "stdout",
          "text": [
            "Writing ProcessC.java\n"
          ]
        }
      ]
    },
    {
      "cell_type": "code",
      "source": [
        "%%writefile ProcessD.java\n",
        "import java.io.IOException;\n",
        "\n",
        "public class ProcessD\n",
        "{\n",
        "\t public static void main(String[] args)\n",
        "\t {\n",
        "\t        try\n",
        "\t\t\t\t\t{\n",
        "\t        \tlong pid = ProcessHandle.current().pid();\n",
        "\t            // Obtener el PID del proceso padre\n",
        "\t            long parentPid = ProcessHandle.current().parent().map(ProcessHandle::pid).orElse(-1L);\n",
        "\t            System.out.println(\"PID D -> \" + pid + \" PPID -> \" + parentPid);\n",
        "\n",
        "\t            // Crear el proceso G\n",
        "\t            ProcessBuilder pbG = new ProcessBuilder(\"java\", \"ProcessG.java\");\n",
        "\t            pbG.redirectErrorStream(true);\n",
        "\t            pbG.inheritIO();\n",
        "\t            Process pG = pbG.start();\n",
        "\t            // Esperar a que el proceso G termine\n",
        "\t            pG.waitFor();\n",
        "\t        }\n",
        "\t\t\t\t\tcatch (IOException | InterruptedException e)\n",
        "\t\t\t\t\t{\n",
        "\t            e.printStackTrace();\n",
        "\t        }\n",
        "\t    }\n",
        "}\n"
      ],
      "metadata": {
        "id": "oemaKDjTkVmi",
        "colab": {
          "base_uri": "https://localhost:8080/"
        },
        "outputId": "756323be-c8c4-4001-e491-3b23f8388484"
      },
      "execution_count": null,
      "outputs": [
        {
          "output_type": "stream",
          "name": "stdout",
          "text": [
            "Writing ProcessD.java\n"
          ]
        }
      ]
    },
    {
      "cell_type": "code",
      "source": [
        "%%writefile ProcessE.java\n",
        "public class ProcessE\n",
        " {\n",
        "\t public static void main(String[] args)\n",
        "\t {\n",
        "\t    \tlong pid = ProcessHandle.current().pid();\n",
        "\t        // Obtener el PID del proceso padre\n",
        "\t        long parentPid = ProcessHandle.current().parent().map(ProcessHandle::pid).orElse(-1L);\n",
        "\t        System.out.println(\"PID E -> \" + pid + \" PPID -> \" + parentPid);\n",
        "\n",
        "\t }\n",
        "}\n"
      ],
      "metadata": {
        "id": "BtanLs-kkXOq",
        "colab": {
          "base_uri": "https://localhost:8080/"
        },
        "outputId": "8afdb5e6-5cae-410e-cf8e-325f87292d2c"
      },
      "execution_count": null,
      "outputs": [
        {
          "output_type": "stream",
          "name": "stdout",
          "text": [
            "Writing ProcessE.java\n"
          ]
        }
      ]
    },
    {
      "cell_type": "code",
      "source": [
        "%%writefile ProcessF.java\n",
        "import java.io.IOException;\n",
        "\n",
        "public class ProcessF\n",
        "{\n",
        "\t public static void main(String[] args)\n",
        "\t  {\n",
        "\t        try\n",
        "\t\t\t\t\t{\n",
        "\t        \tlong pid = ProcessHandle.current().pid();\n",
        "\t            // Obtener el PID del proceso padre\n",
        "\t            long parentPid = ProcessHandle.current().parent().map(ProcessHandle::pid).orElse(-1L);\n",
        "\t            System.out.println(\"PID F -> \" + pid + \" PPID -> \" + parentPid);\n",
        "\n",
        "\t            // Crear los procesos H, I\n",
        "\t            ProcessBuilder pbH = new ProcessBuilder(\"java\", \"ProcessH.java\");\n",
        "\t            pbH.redirectErrorStream(true);\n",
        "\t            pbH.inheritIO();\n",
        "\t            ProcessBuilder pbI = new ProcessBuilder(\"java\", \"ProcessI.java\");\n",
        "\t            pbI.redirectErrorStream(true);\n",
        "\t            pbI.inheritIO();\n",
        "\n",
        "\t            Process pH = pbH.start();\n",
        "\t            Process pI = pbI.start();\n",
        "\n",
        "\t            // Esperar a que los procesos H, I terminen\n",
        "\t            pH.waitFor();\n",
        "\t            pI.waitFor();\n",
        "\t        }\n",
        "\t\t\t\t\tcatch (IOException | InterruptedException e)\n",
        "\t\t\t\t  {\n",
        "\t            e.printStackTrace();\n",
        "\t        }\n",
        "\t    }\n",
        "}"
      ],
      "metadata": {
        "id": "mVoCoY87kX9p",
        "colab": {
          "base_uri": "https://localhost:8080/"
        },
        "outputId": "5dc70350-374b-4d66-a52f-437ac3cdf509"
      },
      "execution_count": null,
      "outputs": [
        {
          "output_type": "stream",
          "name": "stdout",
          "text": [
            "Writing ProcessF.java\n"
          ]
        }
      ]
    },
    {
      "cell_type": "code",
      "source": [
        "%%writefile ProcessG.java\n",
        "public class ProcessG\n",
        "{\n",
        "\t public static void main(String[] args)\n",
        "\t {\n",
        "\t    \tlong pid = ProcessHandle.current().pid();\n",
        "\t        // Obtener el PID del proceso padre\n",
        "\t        long parentPid = ProcessHandle.current().parent().map(ProcessHandle::pid).orElse(-1L);\n",
        "\t        System.out.println(\"PID G -> \" + pid + \" PPID -> \" + parentPid);\n",
        "\n",
        "\t }\n",
        "}\n"
      ],
      "metadata": {
        "id": "uBzS7xiPkZ7E",
        "colab": {
          "base_uri": "https://localhost:8080/"
        },
        "outputId": "596e5c84-7788-4cd2-b033-59b6efacf5d5"
      },
      "execution_count": null,
      "outputs": [
        {
          "output_type": "stream",
          "name": "stdout",
          "text": [
            "Writing ProcessG.java\n"
          ]
        }
      ]
    },
    {
      "cell_type": "code",
      "source": [
        "%%writefile ProcessH.java\n",
        "public class ProcessH\n",
        " {\n",
        "\tpublic static void main(String[] args)\n",
        "   {\n",
        "    \tlong pid = ProcessHandle.current().pid();\n",
        "        // Obtener el PID del proceso padre\n",
        "        long parentPid = ProcessHandle.current().parent().map(ProcessHandle::pid).orElse(-1L);\n",
        "        System.out.println(\"PID H -> \" + pid + \" PPID -> \" + parentPid);\n",
        "\n",
        "  }\n",
        "}\n"
      ],
      "metadata": {
        "id": "la4wo4MHkbvz",
        "colab": {
          "base_uri": "https://localhost:8080/"
        },
        "outputId": "2f40d277-b915-4485-cd2b-e8e9ae830750"
      },
      "execution_count": null,
      "outputs": [
        {
          "output_type": "stream",
          "name": "stdout",
          "text": [
            "Writing ProcessH.java\n"
          ]
        }
      ]
    },
    {
      "cell_type": "code",
      "source": [
        "%%writefile ProcessI.java\n",
        "import java.io.IOException;\n",
        "\n",
        "public class ProcessI\n",
        "{\n",
        "\t public static void main(String[] args)\n",
        "\t {\n",
        "\t        try\n",
        "\t\t\t\t\t{\n",
        "\t        \tlong pid = ProcessHandle.current().pid();\n",
        "\t            // Obtener el PID del proceso padre\n",
        "\t            long parentPid = ProcessHandle.current().parent().map(ProcessHandle::pid).orElse(-1L);\n",
        "\t            System.out.println(\"PID I -> \" + pid + \" PPID -> \" + parentPid);\n",
        "\n",
        "\n",
        "\t            // Crear el proceso J\n",
        "\t            ProcessBuilder pbJ = new ProcessBuilder(\"java\", \"ProcessJ.java\");\n",
        "\t            pbJ.redirectErrorStream(true);\n",
        "\t            pbJ.inheritIO();\n",
        "\t            Process pJ = pbJ.start();\n",
        "\t            // Esperar a que el proceso J termine\n",
        "\t            pJ.waitFor();\n",
        "\t        }\n",
        "\t\t\t\t\tcatch (IOException | InterruptedException e)\n",
        "\t\t\t\t\t {\n",
        "\t            e.printStackTrace();\n",
        "\t        }\n",
        "\t    }\n",
        "}\n"
      ],
      "metadata": {
        "id": "z1YV5gbnkddM",
        "colab": {
          "base_uri": "https://localhost:8080/"
        },
        "outputId": "e3ab913f-b78e-41a7-819d-afaf1ec2563a"
      },
      "execution_count": null,
      "outputs": [
        {
          "output_type": "stream",
          "name": "stdout",
          "text": [
            "Writing ProcessI.java\n"
          ]
        }
      ]
    },
    {
      "cell_type": "code",
      "source": [
        "%%writefile ProcessJ.java\n",
        "public class ProcessJ\n",
        " {\n",
        "\tpublic static void main(String[] args)\n",
        "  {\n",
        "    \tlong pid = ProcessHandle.current().pid();\n",
        "        // Obtener el PID del proceso padre\n",
        "        long parentPid = ProcessHandle.current().parent().map(ProcessHandle::pid).orElse(-1L);\n",
        "        System.out.println(\"PID J -> \" + pid + \" PPID -> \" + parentPid);\n",
        "\n",
        "    }\n",
        "}\n"
      ],
      "metadata": {
        "id": "v7Z9rMsjkgU3",
        "colab": {
          "base_uri": "https://localhost:8080/"
        },
        "outputId": "484b5d00-29aa-4f20-b4f7-4d402670be86"
      },
      "execution_count": null,
      "outputs": [
        {
          "output_type": "stream",
          "name": "stdout",
          "text": [
            "Writing ProcessJ.java\n"
          ]
        }
      ]
    },
    {
      "cell_type": "markdown",
      "metadata": {
        "id": "VApA3R6UiuBF"
      },
      "source": [
        "###**EJECUTO EL COMANDO \"NOHUP\", PARA ASEGURAR QUE EL PROCESO SE EJECUTE EN SEGUNDO PLANO, SIN BLOQUEAR LA TERMINAL**"
      ]
    },
    {
      "cell_type": "code",
      "execution_count": null,
      "metadata": {
        "id": "1Y6iti0FjHGR",
        "colab": {
          "base_uri": "https://localhost:8080/"
        },
        "outputId": "f3be1c77-955c-49e8-d554-65b4cf2dab55"
      },
      "outputs": [
        {
          "output_type": "stream",
          "name": "stdout",
          "text": [
            "nohup: appending output to 'nohup.out'\n"
          ]
        }
      ],
      "source": [
        "!nohup javac ProcessTree.java &"
      ]
    },
    {
      "cell_type": "markdown",
      "metadata": {
        "id": "DBWA0pHJjOK1"
      },
      "source": [
        "**MUESTRO LOS PROCESOS**"
      ]
    },
    {
      "cell_type": "code",
      "execution_count": null,
      "metadata": {
        "id": "Cyszy8gWjOt2",
        "colab": {
          "base_uri": "https://localhost:8080/"
        },
        "outputId": "8d747f98-c4cf-46e0-ce90-e54354097449"
      },
      "outputs": [
        {
          "output_type": "stream",
          "name": "stdout",
          "text": [
            "root        4007  0.0  0.0   6620  2308 ?        S    23:03   0:00 grep ProcessTree.java\n"
          ]
        }
      ],
      "source": [
        "!ps -aux | grep ProcessTree.java"
      ]
    },
    {
      "cell_type": "markdown",
      "metadata": {
        "id": "5OwoUDPDjRbM"
      },
      "source": [
        "**MUESTRO EL ÁRBOL DE PROCESOS GENERADO**"
      ]
    },
    {
      "cell_type": "code",
      "execution_count": null,
      "metadata": {
        "id": "qvBcRxRRjWXM"
      },
      "outputs": [],
      "source": [
        "!pstree -p 4007"
      ]
    },
    {
      "cell_type": "markdown",
      "metadata": {
        "id": "PgzVaaYVjeOF"
      },
      "source": [
        "**CORRO EL ARCHIVO PARA VER QUE MUESTRA POR PANTALLA**"
      ]
    },
    {
      "cell_type": "code",
      "execution_count": null,
      "metadata": {
        "id": "5elUscEcje1a",
        "colab": {
          "base_uri": "https://localhost:8080/"
        },
        "outputId": "73a078f9-1547-475f-c85c-c41a400a2323"
      },
      "outputs": [
        {
          "output_type": "stream",
          "name": "stdout",
          "text": [
            "PID A -> 9323 PPID -> 9300\n",
            "PID C -> 9349 PPID -> 9323\n",
            "PID D -> 9353 PPID -> 9323\n",
            "PID B -> 9347 PPID -> 9323\n",
            "PID E -> 9434 PPID -> 9347\n",
            "PID G -> 9427 PPID -> 9353\n",
            "PID F -> 9438 PPID -> 9347\n",
            "PID H -> 9499 PPID -> 9438\n",
            "PID I -> 9501 PPID -> 9438\n",
            "PID J -> 9547 PPID -> 9501\n",
            "Total execution time of ProcessA: 11426 milliseconds\n"
          ]
        }
      ],
      "source": [
        "!java ProcessTree.java"
      ]
    },
    {
      "cell_type": "markdown",
      "metadata": {
        "id": "ExyRMboh2fEy"
      },
      "source": [
        "##Python"
      ]
    },
    {
      "cell_type": "markdown",
      "metadata": {
        "id": "0vwPbVjNd61Y"
      },
      "source": [
        "**ESCRIBO EL CODIGO EN UN ARCHIVO \".py\"**\n",
        "\n",
        "\n",
        "\n",
        "\n",
        "\n",
        "\n"
      ]
    },
    {
      "cell_type": "code",
      "execution_count": null,
      "metadata": {
        "colab": {
          "base_uri": "https://localhost:8080/"
        },
        "id": "tv4hvTAY2gZD",
        "outputId": "5c1aac74-0bf1-4251-da92-d6939cadfe08"
      },
      "outputs": [
        {
          "output_type": "stream",
          "name": "stdout",
          "text": [
            "Overwriting procesos.py\n"
          ]
        }
      ],
      "source": [
        "%%writefile procesos.py\n",
        "import os\n",
        "import time\n",
        "import threading\n",
        "\n",
        "#GLOBAL VARIABLES\n",
        "SLEEP_TIME = 100\n",
        "CHECK_PSTREE = False\n",
        "IS_CHILD = 0\n",
        "\n",
        "def childrenCreatorHandler(option):\n",
        "    match option:\n",
        "        case 'B':\n",
        "            createChild(\"EF\")\n",
        "\n",
        "        case 'D':\n",
        "            createChild(\"G\")\n",
        "\n",
        "        case 'F':\n",
        "            createChild(\"HI\")\n",
        "\n",
        "        case 'I':\n",
        "            createChild(\"J\")\n",
        "\n",
        "def createChild(children):\n",
        "    global CHECK_PSTREE\n",
        "    children_number = len(children)\n",
        "    for child in children:\n",
        "        if os.fork() == IS_CHILD:\n",
        "            print(\"[\", child, \"] -> PID: \", os.getpid(), \"PPID: \", os.getppid())\n",
        "            childrenCreatorHandler(child)\n",
        "            if CHECK_PSTREE:\n",
        "              time.sleep(SLEEP_TIME)\n",
        "            os._exit(os.EX_OK)\n",
        "\n",
        "    for i in range(0,children_number):\n",
        "        os.wait()\n",
        "\n",
        "\n",
        "def main():\n",
        "    print(\"[ A ] -> PID: \", os.getpid())\n",
        "    createChild(\"BCD\")\n",
        "\n",
        "startTimer = time.time()\n",
        "main()\n",
        "endTimer = time.time()\n",
        "print(\"Duracion total: \",endTimer-startTimer, \"s\")"
      ]
    },
    {
      "cell_type": "markdown",
      "metadata": {
        "id": "IuyHwwdCeV_X"
      },
      "source": [
        "**EJECUTO EL COMANDO \"NOHUP\", PARA ASEGURAR QUE EL PROCESO SE EJECUTE EN SEGUNDO PLANO, SIN BLOQUEAR LA TERMINAL**"
      ]
    },
    {
      "cell_type": "code",
      "execution_count": null,
      "metadata": {
        "colab": {
          "base_uri": "https://localhost:8080/"
        },
        "id": "7DKx2PvqPcd8",
        "outputId": "78d68bf4-2bc1-44d0-eeb6-243039e87962"
      },
      "outputs": [
        {
          "output_type": "stream",
          "name": "stdout",
          "text": [
            "nohup: appending output to 'nohup.out'\n"
          ]
        }
      ],
      "source": [
        "!nohup python3 procesos.py &"
      ]
    },
    {
      "cell_type": "code",
      "source": [
        "!python3 procesos.py"
      ],
      "metadata": {
        "colab": {
          "base_uri": "https://localhost:8080/"
        },
        "id": "GTeSRuimDpf8",
        "outputId": "faa3560d-5389-4be2-d75b-7c416172a591"
      },
      "execution_count": null,
      "outputs": [
        {
          "output_type": "stream",
          "name": "stdout",
          "text": [
            "[ A ] -> PID:  9725\n",
            "[ B ] -> PID:  9726 PPID:  9725\n",
            "[ C ] -> PID:  9727 PPID:  9725\n",
            "[ D ] -> PID:  9728 PPID:  9725\n",
            "[ E ] -> PID:  9729 PPID:  9726\n",
            "[ G ] -> PID:  9731 PPID:  9728\n",
            "[ F ] -> PID:  9730 PPID:  9726\n",
            "[ H ] -> PID:  9732 PPID:  9730\n",
            "[ I ] -> PID:  9733 PPID:  9730\n",
            "[ J ] -> PID:  9734 PPID:  9733\n",
            "Duracion total:  0.00891876220703125\n"
          ]
        }
      ]
    },
    {
      "cell_type": "markdown",
      "source": [
        "Se puede observar como la ejecución demora aproximadamente 8 milisegundos"
      ],
      "metadata": {
        "id": "XVfRM4GaHVqq"
      }
    },
    {
      "cell_type": "markdown",
      "metadata": {
        "id": "XrfQAy4Qfxqa"
      },
      "source": [
        "**MUESTRO LOS PROCESOS**"
      ]
    },
    {
      "cell_type": "code",
      "execution_count": null,
      "metadata": {
        "colab": {
          "base_uri": "https://localhost:8080/"
        },
        "id": "LctM4G-ZPgfv",
        "outputId": "b2400c77-0ddd-436d-b2ce-58633cac6321"
      },
      "outputs": [
        {
          "output_type": "stream",
          "name": "stdout",
          "text": [
            "root        4585  1.5  0.0  17504  9928 ?        S    22:46   0:00 python3 procesos.py\n",
            "root        4586  0.0  0.0  17504  6512 ?        S    22:46   0:00 python3 procesos.py\n",
            "root        4587  0.0  0.0  17504  6508 ?        S    22:46   0:00 python3 procesos.py\n",
            "root        4588  0.0  0.0  17504  6512 ?        S    22:46   0:00 python3 procesos.py\n",
            "root        4589  0.0  0.0  17504  6256 ?        S    22:46   0:00 python3 procesos.py\n",
            "root        4590  0.0  0.0  17504  6512 ?        S    22:46   0:00 python3 procesos.py\n",
            "root        4591  0.0  0.0  17504  6256 ?        S    22:46   0:00 python3 procesos.py\n",
            "root        4592  0.0  0.0  17504  6256 ?        S    22:46   0:00 python3 procesos.py\n",
            "root        4593  0.0  0.0  17504  6256 ?        S    22:46   0:00 python3 procesos.py\n",
            "root        4594  0.0  0.0  17504  6256 ?        S    22:46   0:00 python3 procesos.py\n",
            "root        4605  0.0  0.0   6484  2192 ?        S    22:46   0:00 grep procesos\n"
          ]
        }
      ],
      "source": [
        "!ps -aux | grep procesos"
      ]
    },
    {
      "cell_type": "code",
      "source": [
        "!ps -aux"
      ],
      "metadata": {
        "colab": {
          "base_uri": "https://localhost:8080/"
        },
        "id": "Fz1i0xMTCBce",
        "outputId": "20f3bd57-1741-4636-f16e-c9d0221e0a9a"
      },
      "execution_count": null,
      "outputs": [
        {
          "output_type": "stream",
          "name": "stdout",
          "text": [
            "USER         PID %CPU %MEM    VSZ   RSS TTY      STAT START   TIME COMMAND\n",
            "root           1  0.0  0.0   1076     8 ?        Ss   22:28   0:00 /sbin/docker-init -- /datalab/run\n",
            "root           6  0.3  0.3 886296 47508 ?        Rl   22:28   0:01 /tools/node/bin/node /datalab/web\n",
            "root          17  0.0  0.0   7376  3388 ?        S    22:28   0:00 /bin/bash -e /usr/local/colab/bin\n",
            "root          19  0.0  0.0   7376  1896 ?        S    22:28   0:00 /bin/bash -e /datalab/run.sh\n",
            "root          20  0.0  0.0 1236012 11748 ?       Sl   22:28   0:00 /usr/colab/bin/kernel_manager_pro\n",
            "root          23  0.0  0.0   5808   996 ?        Ss   22:28   0:00 tail -n +0 -F /root/.config/Googl\n",
            "root          62  1.7  0.0      0     0 ?        Z    22:28   0:06 [python3] <defunct>\n",
            "root          63  0.1  0.3  66536 51356 ?        S    22:28   0:00 python3 /usr/local/bin/colab-file\n",
            "root          81  0.9  0.8 358400 112620 ?       Rl   22:28   0:03 /usr/bin/python3 /usr/local/bin/j\n",
            "root          82  0.0  0.0 1227460 4464 ?        Sl   22:28   0:00 /usr/local/bin/dap_multiplexer --\n",
            "root         310  1.0  0.8 1115500 109984 ?      Ssl  22:29   0:03 /usr/bin/python3 -m colab_kernel_\n",
            "root         353  0.0  0.0 538380 12772 ?        Sl   22:29   0:00 /usr/bin/python3 /usr/local/lib/p\n",
            "root         382  0.0  0.1 1239188 18556 ?       Sl   22:29   0:00 /usr/colab/bin/language_service -\n",
            "root         395  2.2  0.8 894468 113888 ?       Sl   22:29   0:07 node /datalab/web/pyright/pyright\n",
            "root        1812  0.0  0.0   5776  1072 ?        S    22:35   0:00 sleep 1\n",
            "root        1813  0.0  0.0  10076  1544 ?        R    22:35   0:00 ps -aux\n"
          ]
        }
      ]
    },
    {
      "cell_type": "markdown",
      "metadata": {
        "id": "k-XErJbmf3fR"
      },
      "source": [
        "**MUESTRO EL ÁRBOL DE PROCESOS GENERADO**"
      ]
    },
    {
      "cell_type": "code",
      "execution_count": null,
      "metadata": {
        "id": "SVGRZ2nwPjkL"
      },
      "outputs": [],
      "source": [
        "!pstree -p 5155"
      ]
    },
    {
      "cell_type": "markdown",
      "metadata": {
        "id": "XxCF1ijqglB5"
      },
      "source": [
        "**CORRO EL ARCHIVO PARA VER QUE MUESTRA POR PANTALLA**"
      ]
    },
    {
      "cell_type": "code",
      "execution_count": null,
      "metadata": {
        "id": "9VQrQLklgmgp"
      },
      "outputs": [],
      "source": [
        "!python3 procesos.py"
      ]
    },
    {
      "cell_type": "markdown",
      "source": [
        "Se puede observar como la ejecución tarda aproximadamente 8 milisegundos."
      ],
      "metadata": {
        "id": "TaS6Ly5CHbi6"
      }
    },
    {
      "cell_type": "markdown",
      "source": [],
      "metadata": {
        "id": "6rijcApaI-oe"
      }
    },
    {
      "cell_type": "markdown",
      "metadata": {
        "id": "jauzC4492h2C"
      },
      "source": [
        "##Go"
      ]
    },
    {
      "cell_type": "markdown",
      "metadata": {
        "id": "ZjcD9dOYh23P"
      },
      "source": [
        "**INSTALO GO**"
      ]
    },
    {
      "cell_type": "code",
      "execution_count": null,
      "metadata": {
        "id": "BHCvEDOe2ixJ",
        "colab": {
          "base_uri": "https://localhost:8080/"
        },
        "outputId": "c244e60e-cb2a-40a9-c6da-7de75cce8ae7"
      },
      "outputs": [
        {
          "output_type": "stream",
          "name": "stdout",
          "text": [
            "^C\n"
          ]
        }
      ],
      "source": [
        "!apt install golang-go"
      ]
    },
    {
      "cell_type": "markdown",
      "metadata": {
        "id": "XixGEqHYhA6T"
      },
      "source": [
        "**ESCRIBO EL CODIGO EN UN ARCHIVO \".go\"**"
      ]
    },
    {
      "cell_type": "code",
      "execution_count": null,
      "metadata": {
        "colab": {
          "base_uri": "https://localhost:8080/"
        },
        "id": "_BTfxUAz5uCr",
        "outputId": "040be7e1-e405-4a9e-f6e5-4a5abe2daab6"
      },
      "outputs": [
        {
          "output_type": "stream",
          "name": "stdout",
          "text": [
            "Writing procesos.go\n"
          ]
        }
      ],
      "source": [
        "%%writefile procesos.go\n",
        "package main\n",
        "\n",
        "import (\n",
        "\t\"fmt\"\n",
        "\t\"os\"\n",
        "\t\"os/exec\"\n",
        "\t\"strconv\"\n",
        "\t\"time\"\n",
        ")\n",
        "\n",
        "const (\n",
        "\ttimeToSleep   time.Duration = 100   //amount of seconds to wait for each process to finish, in order to check the process tree\n",
        "\tprocArgLen    int           = 2     //the arguments should be 2 for a valid process in this case (filePath and letter)\n",
        "\tfilePathIdx   int           = 0     //argument 0: file's path\n",
        "\tletterArgIdx  int           = 1     //argument 1: letter corresponding to that process\n",
        "\tcheckPstree   bool          = true //boolean that defines if each process has to wait in order to get the pstree\n",
        "\tdefaultLetter string        = \"A\"\n",
        "\tprocessLetter1, processLetter2, processLetter3, processLetter4,\n",
        "\tprocessLetter5, processLetter6, processLetter7, processLetter8,\n",
        "\tprocessLetter9, processLetter10 string = \"A\", \"B\", \"C\", \"D\", \"E\", \"F\", \"G\", \"H\", \"I\", \"J\" //letters corresponding to each process in the tree\n",
        ")\n",
        "\n",
        "func main() {\n",
        "\tstart := time.Now()\n",
        "\tcurLetter := attendCurrentProcess()\n",
        "\tfollowingLetters := followingLetters(curLetter)\n",
        "\tchildrenProcesses, err := createChildrenProcesses(followingLetters)\n",
        "\tif err != nil {\n",
        "\t\tfmt.Println(err)\n",
        "\t\treturn\n",
        "\t}\n",
        "\n",
        "\t//if this variable is true, perform an active wait in the process to be able to see the tree.\n",
        "\tif checkPstree {\n",
        "\t\ttime.Sleep(timeToSleep * time.Second)\n",
        "\t}\n",
        "\tif err = waitForChildrenProcesses(childrenProcesses); err != nil {\n",
        "\t\tfmt.Println(err)\n",
        "\t\treturn\n",
        "\t}\n",
        "\n",
        "\t//track the execution time in case it's the main process.\n",
        "\tif curLetter == defaultLetter {\n",
        "\t\ttimeTrack(start, curLetter)\n",
        "\t}\n",
        "}\n",
        "\n",
        "func attendCurrentProcess() (curLetter string) {\n",
        "\tpid := strconv.Itoa(os.Getpid())\n",
        "\t//main process:\n",
        "\tif len(os.Args) < procArgLen {\n",
        "\t\tcurLetter = defaultLetter\n",
        "\t\tfmt.Println(\"Soy el proceso de letra:\", curLetter, \", Mi PID es:\", pid)\n",
        "\t} else { //children process\n",
        "\t\tcurLetter = os.Args[letterArgIdx]\n",
        "\t\tfatherPid := os.Getppid()\n",
        "\t\tfmt.Println(\"Soy el proceso de letra:\", curLetter, \", Mi PID es:\", pid, \", El PID de mi padre es:\", fatherPid)\n",
        "\t}\n",
        "\treturn\n",
        "}\n",
        "\n",
        "func followingLetters(letter string) (followingLetters []string) {\n",
        "\tswitch letter {\n",
        "\tcase defaultLetter:\n",
        "\t\tfollowingLetters = []string{processLetter2, processLetter3, processLetter4}\n",
        "\tcase processLetter2:\n",
        "\t\tfollowingLetters = []string{processLetter5, processLetter6}\n",
        "\tcase processLetter4:\n",
        "\t\tfollowingLetters = []string{processLetter7}\n",
        "\tcase processLetter6:\n",
        "\t\tfollowingLetters = []string{processLetter8, processLetter9}\n",
        "\tcase processLetter9:\n",
        "\t\tfollowingLetters = []string{processLetter10}\n",
        "\t}\n",
        "\treturn\n",
        "}\n",
        "\n",
        "func createChildrenProcesses(followingLetters []string) ([]*exec.Cmd, error) {\n",
        "\t//os.Args[filePathIdx] is this file's path, to execute main once again.\n",
        "\tfilePath := os.Args[filePathIdx]\n",
        "\n",
        "\tvar childrenProcesses []*exec.Cmd\n",
        "\tfor _, letter := range followingLetters {\n",
        "\t\tif err := initChildProcess(&childrenProcesses, filePath, letter); err != nil {\n",
        "\t\t\treturn nil, err\n",
        "\t\t}\n",
        "\t}\n",
        "\treturn childrenProcesses, nil\n",
        "}\n",
        "\n",
        "func initChildProcess(childrenProcesses *[]*exec.Cmd, filePath string, args ...string) (err error) {\n",
        "\t//arguments: the letter, current PID (it's child's parent).\n",
        "\tcmd := exec.Command(filePath, args...)\n",
        "\t*childrenProcesses = append(*childrenProcesses, cmd)\n",
        "\t// Set the child process's output to the standard output of the parent process\n",
        "\tcmd.Stdout = os.Stdout\n",
        "\tif err = cmd.Start(); err != nil {\n",
        "\t\treturn fmt.Errorf(\"Error starting child process: %w\", err)\n",
        "\t}\n",
        "\treturn\n",
        "}\n",
        "\n",
        "func waitForChildrenProcesses(childrenProcesses []*exec.Cmd) error {\n",
        "\tfor _, proc := range childrenProcesses {\n",
        "\t\tif err := proc.Wait(); err != nil {\n",
        "\t\t\treturn fmt.Errorf(\"Error waiting for child process: %w\", err)\n",
        "\t\t}\n",
        "\t}\n",
        "\treturn nil\n",
        "}\n",
        "\n",
        "func timeTrack(start time.Time, name string) {\n",
        "\telapsed := time.Since(start)\n",
        "\tfmt.Printf(\"\\n%s ejecutó en %s\\n\", name, elapsed)\n",
        "}\n"
      ]
    },
    {
      "cell_type": "markdown",
      "metadata": {
        "id": "iAs34w3ghKYR"
      },
      "source": [
        "**EJECUTO EL COMANDO \"NOHUP\", PARA ASEGURAR QUE EL PROCESO SE EJECUTE EN SEGUNDO PLANO, SIN BLOQUEAR LA TERMINAL**"
      ]
    },
    {
      "cell_type": "code",
      "execution_count": null,
      "metadata": {
        "id": "VJ6gLeEw55um"
      },
      "outputs": [],
      "source": [
        "!nohup go run procesos.go 2>/dev/null &"
      ]
    },
    {
      "cell_type": "markdown",
      "metadata": {
        "id": "F8EoYEQMhP4C"
      },
      "source": [
        "**MUESTRO LOS PROCESOS**"
      ]
    },
    {
      "cell_type": "code",
      "execution_count": null,
      "metadata": {
        "id": "eOIDeRwe6PFW",
        "colab": {
          "base_uri": "https://localhost:8080/"
        },
        "outputId": "c199b50c-cd3c-4885-9fa4-39c1c1b2b68f"
      },
      "outputs": [
        {
          "output_type": "stream",
          "name": "stdout",
          "text": [
            "root        3422  0.0  0.0   6484  2204 ?        S    20:40   0:00 grep procesos\n"
          ]
        }
      ],
      "source": [
        "!ps -aux | grep procesos"
      ]
    },
    {
      "cell_type": "markdown",
      "source": [
        "revisar por qué no salen con el grep de arriba los procesos hijos. si uso ps -e sí se ven con el nombre \"procesos\"\n",
        "\n",
        "con el ps de abajo serían los que tienen de nombre de command /tmp/go-build2679718851/b001/exe/"
      ],
      "metadata": {
        "id": "JVLEFqLToBem"
      }
    },
    {
      "cell_type": "code",
      "source": [
        "!ps -aux"
      ],
      "metadata": {
        "colab": {
          "base_uri": "https://localhost:8080/"
        },
        "id": "mxfHYI3unrI-",
        "outputId": "9d479fa3-80d0-44be-d8f6-2bb9949c0ed0"
      },
      "execution_count": null,
      "outputs": [
        {
          "output_type": "stream",
          "name": "stdout",
          "text": [
            "USER         PID %CPU %MEM    VSZ   RSS TTY      STAT START   TIME COMMAND\n",
            "root           1  0.0  0.0   1076     8 ?        Ss   20:27   0:00 /sbin/docker-init -- /datalab/run\n",
            "root           6  0.4  0.3 887944 49076 ?        Sl   20:27   0:03 /tools/node/bin/node /datalab/web\n",
            "root          16  0.0  0.0   7376  3552 ?        S    20:27   0:00 /bin/bash -e /usr/local/colab/bin\n",
            "root          18  0.0  0.0   7376  1788 ?        S    20:27   0:00 /bin/bash -e /datalab/run.sh\n",
            "root          20  0.0  0.0 1236268 12016 ?       Sl   20:27   0:00 /usr/colab/bin/kernel_manager_pro\n",
            "root          22  0.0  0.0   5808  1044 ?        Ss   20:27   0:00 tail -n +0 -F /root/.config/Googl\n",
            "root          61  1.2  0.0      0     0 ?        Z    20:27   0:09 [python3] <defunct>\n",
            "root          62  0.1  0.3  66412 51200 ?        S    20:27   0:01 python3 /usr/local/bin/colab-file\n",
            "root          84  0.6  0.8 358344 112384 ?       Rl   20:27   0:05 /usr/bin/python3 /usr/local/bin/j\n",
            "root          85  0.1  0.0 1228356 8764 ?        Sl   20:27   0:00 /usr/local/bin/dap_multiplexer --\n",
            "root         608  0.9  0.7 1111004 96632 ?       Ssl  20:30   0:06 /usr/bin/python3 -m colab_kernel_\n",
            "root         651  0.2  0.1 539404 13456 ?        Sl   20:30   0:01 /usr/bin/python3 /usr/local/lib/p\n",
            "root         684  0.1  0.1 1239188 17596 ?       Sl   20:30   0:00 /usr/colab/bin/language_service -\n",
            "root         692  2.3  0.9 891140 129512 ?       Sl   20:30   0:14 node /datalab/web/pyright/pyright\n",
            "root        3419  0.0  0.0   5776  1028 ?        S    20:40   0:00 sleep 1\n",
            "root        3423  0.0  0.0  10076  1572 ?        R    20:40   0:00 ps -aux\n"
          ]
        }
      ]
    },
    {
      "cell_type": "code",
      "source": [
        "!ps -e | grep procesos"
      ],
      "metadata": {
        "id": "XDR8M3eOR7J4"
      },
      "execution_count": null,
      "outputs": []
    },
    {
      "cell_type": "markdown",
      "metadata": {
        "id": "V6S1-dHwhVaJ"
      },
      "source": [
        "**MUESTRO EL ÁRBOL DE PROCESOS GENERADO**"
      ]
    },
    {
      "cell_type": "code",
      "execution_count": null,
      "metadata": {
        "id": "kQkW5Umd6ofh"
      },
      "outputs": [],
      "source": [
        "!pstree -p -T -l 2356"
      ]
    },
    {
      "cell_type": "markdown",
      "source": [
        "**Árbol de procesos sin omitir threads**"
      ],
      "metadata": {
        "id": "QqLDaeTASoo6"
      }
    },
    {
      "cell_type": "code",
      "source": [
        "!pstree -p -l 2356"
      ],
      "metadata": {
        "id": "Pjos71irSa1i"
      },
      "execution_count": null,
      "outputs": []
    },
    {
      "cell_type": "markdown",
      "metadata": {
        "id": "BI9lKqF1hb0l"
      },
      "source": [
        "**CORRO EL ARCHIVO PARA VER QUE MUESTRA POR PANTALLA**"
      ]
    },
    {
      "cell_type": "code",
      "execution_count": null,
      "metadata": {
        "colab": {
          "base_uri": "https://localhost:8080/"
        },
        "id": "DuLyV9uBhdCW",
        "outputId": "aa1ed405-8e48-4f10-fab3-4c7afaac128a"
      },
      "outputs": [
        {
          "output_type": "stream",
          "name": "stdout",
          "text": [
            "/bin/bash: line 1: go: command not found\n"
          ]
        }
      ],
      "source": [
        "!go run procesos.go"
      ]
    },
    {
      "cell_type": "markdown",
      "source": [
        "Podemos notar que la ejecución demora aproximadamente 12 milisegundos. Además, puede verse que la creación de procesos respeta un orden, a pesar de que los procesos se ejecuten de manera concurrente.\n",
        "\n",
        "Esto nos llamó la atención, aunque se corroboró la concurrencia agregando un ciclo for que incrementa una variable en cada proceso y mostrando cómo se actualiza el valor de esta, detectando que el incremento no era necesariamente secuencial sino intercalado entre los distintos procesos. Por lo tanto, concluímos que el orden se respeta debido a un manejo de procesos internos del propio lenguaje Go.\n",
        "\n",
        "Por último, podemos notar que cada proceso de Go genera entre 3 y 4 hilos que se producen automáticamente cuando se crea el mismo. Investigando, detectamos que estos hilos se utilizan, entre otras cosas, para recolección de basura (Garbage Collection), runtime scheduler (el gestor que utiliza Go para manejar la concurrencia) o para administrar esperas de Entrada / Salida.\n",
        "\n",
        "\n",
        "Referencias:\n",
        "\n",
        "https://meska54.hashnode.dev/concurrency-in-go-a-deeper-look-into-gos-runtime-scheduler\n",
        "https://stackoverflow.com/questions/73682434/why-are-there-more-os-threads-when-running-go-simple-app\n"
      ],
      "metadata": {
        "id": "gOSEdOAcVmqD"
      }
    }
  ],
  "metadata": {
    "colab": {
      "collapsed_sections": [
        "sK7Qbl3zKRbb",
        "dy5Ddj1PRaF3",
        "-7MoYDso2ciO"
      ],
      "provenance": []
    },
    "kernelspec": {
      "display_name": "Python 3",
      "name": "python3"
    },
    "language_info": {
      "name": "python"
    }
  },
  "nbformat": 4,
  "nbformat_minor": 0
}