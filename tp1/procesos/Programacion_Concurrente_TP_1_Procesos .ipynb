{
  "cells": [
    {
      "cell_type": "markdown",
      "metadata": {
        "id": "sK7Qbl3zKRbb"
      },
      "source": [
        "###TP 1 Procesos\n"
      ]
    },
    {
      "cell_type": "markdown",
      "metadata": {
        "id": "dy5Ddj1PRaF3"
      },
      "source": [
        "## C"
      ]
    },
    {
      "cell_type": "markdown",
      "metadata": {
        "id": "wb6bXd-0gHpD"
      },
      "source": [
        "**ESCRIBO EL CODIGO EN UN ARCHIVO \".c\"**"
      ]
    },
    {
      "cell_type": "code",
      "execution_count": null,
      "metadata": {
        "colab": {
          "base_uri": "https://localhost:8080/"
        },
        "id": "zR5ocNgpKWdt",
        "outputId": "b0e46f80-253b-4b6b-e164-9644581371a2"
      },
      "outputs": [
        {
          "name": "stdout",
          "output_type": "stream",
          "text": [
            "Writing procesos.c\n"
          ]
        }
      ],
      "source": [
        "%%writefile procesos.c\n",
        "#include <stdlib.h>\n",
        "#include <stdio.h>\n",
        "#include <unistd.h>\n",
        "#include <sys/wait.h>\n",
        "#include <string.h>\n",
        "\n",
        "void ManejarOpcion(char);\n",
        "void GenerarHijos(char *);\n",
        "\n",
        "void ManejarOpcion(char opcion)\n",
        "{\n",
        "    switch (opcion) {\n",
        "        case 'B':\n",
        "            GenerarHijos(\"EF\");\n",
        "            break;\n",
        "        case 'D':\n",
        "            GenerarHijos(\"G\");\n",
        "            break;\n",
        "        case 'F':\n",
        "            GenerarHijos(\"HI\");\n",
        "            break;\n",
        "        case 'I':\n",
        "            GenerarHijos(\"J\");\n",
        "            break;\n",
        "        default:\n",
        "            break;\n",
        "    }\n",
        "}\n",
        "\n",
        "void GenerarHijos(char *hijos)\n",
        "{\n",
        "    int cantidad_hijos = strlen(hijos);\n",
        "    while(*hijos!='\\0')\n",
        "    {\n",
        "        char caracter = *hijos;\n",
        "        pid_t pid = fork();\n",
        "        if(pid==0)\n",
        "        {\n",
        "                pid_t pidMio = getpid();\n",
        "                pid_t pidPadre = getppid();\n",
        "                printf(\"Soy el proceso %c mi pid es: %d y el de mi padre es: %d\\n\",caracter,pidMio, pidPadre);\n",
        "                ManejarOpcion(caracter);\n",
        "                sleep(50);\n",
        "                exit(0);\n",
        "        }\n",
        "        hijos++;\n",
        "    }\n",
        "\n",
        "    for(int i=0;i<cantidad_hijos;i++){\n",
        "        wait(NULL);\n",
        "    }\n",
        "}\n",
        "\n",
        "int main(int argc, char *argv[])\n",
        "{\n",
        "    printf(\"Soy el proceso A mi pid es: %d\\n\", getpid());\n",
        "    GenerarHijos(\"BCD\");\n",
        "\n",
        "    return EXIT_SUCCESS;\n",
        "}"
      ]
    },
    {
      "cell_type": "code",
      "execution_count": null,
      "metadata": {
        "id": "KCvKfPHaKb6v"
      },
      "outputs": [],
      "source": [
        "!gcc -o procesos procesos.c"
      ]
    },
    {
      "cell_type": "markdown",
      "metadata": {
        "id": "uArRzg1GgNNn"
      },
      "source": [
        "**EJECUTO EL COMANDO \"NOHUP\", PARA ASEGURAR QUE EL PROCESO SE EJECUTE EN SEGUNDO PLANO, SIN BLOQUEAR LA TERMINAL**"
      ]
    },
    {
      "cell_type": "code",
      "execution_count": null,
      "metadata": {
        "id": "yU5Q_P5_Kju8"
      },
      "outputs": [],
      "source": [
        "!nohup ./procesos 2>/dev/null &"
      ]
    },
    {
      "cell_type": "markdown",
      "metadata": {
        "id": "LGWZ80y7gQvf"
      },
      "source": [
        "**MUESTRO LOS PROCESOS**"
      ]
    },
    {
      "cell_type": "code",
      "execution_count": null,
      "metadata": {
        "colab": {
          "base_uri": "https://localhost:8080/"
        },
        "id": "cp1EyfWauTZR",
        "outputId": "05a158c8-ffb9-4b69-d403-e0b34ac606c0"
      },
      "outputs": [
        {
          "name": "stdout",
          "output_type": "stream",
          "text": [
            "root       32267  0.0  0.0   2780   956 ?        S    15:51   0:00 ./procesos\n",
            "root       32268  0.0  0.0   2780   108 ?        S    15:51   0:00 ./procesos\n",
            "root       32269  0.0  0.0   2780   108 ?        S    15:51   0:00 ./procesos\n",
            "root       32270  0.0  0.0   2780   108 ?        S    15:51   0:00 ./procesos\n",
            "root       32271  0.0  0.0   2780   108 ?        S    15:51   0:00 ./procesos\n",
            "root       32272  0.0  0.0   2780   108 ?        S    15:51   0:00 ./procesos\n",
            "root       32273  0.0  0.0   2780   108 ?        S    15:51   0:00 ./procesos\n",
            "root       32274  0.0  0.0   2780   108 ?        S    15:51   0:00 ./procesos\n",
            "root       32275  0.0  0.0   2780   108 ?        S    15:51   0:00 ./procesos\n",
            "root       32276  0.0  0.0   2780   108 ?        S    15:51   0:00 ./procesos\n",
            "root       32279  0.0  0.0   6484  2256 ?        S    15:51   0:00 grep procesos\n"
          ]
        }
      ],
      "source": [
        "!ps -aux | grep procesos"
      ]
    },
    {
      "cell_type": "markdown",
      "metadata": {
        "id": "IPCbfF76gUH0"
      },
      "source": [
        "**MUESTRO EL ÁRBOL DE PROCESOS GENERADO**"
      ]
    },
    {
      "cell_type": "code",
      "execution_count": null,
      "metadata": {
        "colab": {
          "base_uri": "https://localhost:8080/"
        },
        "id": "RjpvcWHZ1Fw3",
        "outputId": "3bff7138-a385-4042-ac81-07b8fe508e0c"
      },
      "outputs": [
        {
          "name": "stdout",
          "output_type": "stream",
          "text": [
            "               |-procesos(32267)-+-procesos(32268)-+-procesos(32271)\n",
            "               |                 |                 `-procesos(32272)-+-procesos(32273)\n",
            "               |                 |                                   `-procesos(32274)---procesos(3+\n",
            "               |                 |-procesos(32269)\n",
            "               |                 `-procesos(32270)---procesos(32276)\n"
          ]
        }
      ],
      "source": [
        "!pstree -p | grep procesos"
      ]
    },
    {
      "cell_type": "markdown",
      "metadata": {
        "id": "-7MoYDso2ciO"
      },
      "source": [
        "##Java"
      ]
    },
    {
      "cell_type": "markdown",
      "metadata": {
        "id": "2WTArA_xiZF-"
      },
      "source": [
        "###**ESCRIBO EL CODIGO EN UN ARCHIVO \".java\"**"
      ]
    },
    {
      "cell_type": "code",
      "execution_count": null,
      "metadata": {
        "colab": {
          "base_uri": "https://localhost:8080/"
        },
        "id": "tKiKyf922d4j",
        "outputId": "975cb3bb-9805-4c9a-bfd8-febca3671ce3"
      },
      "outputs": [
        {
          "name": "stdout",
          "output_type": "stream",
          "text": [
            "Overwriting ProcessTree.java\n"
          ]
        }
      ],
      "source": [
        "%%writefile ProcessTree.java\n",
        "import java.io.IOException;\n",
        "\n",
        "public class ProcessTree\n",
        "{\n",
        "    public static void main(String[] args)\n",
        "    {\n",
        "        try\n",
        "        {\n",
        "\n",
        "            // Ejecutar el proceso A\n",
        "            ProcessBuilder pbA = new ProcessBuilder(\"java\", \"ProcessA.java\");\n",
        "            pbA.redirectErrorStream(true);\n",
        "            pbA.inheritIO();\n",
        "            Process pA = pbA.start();\n",
        "\n",
        "            pA.waitFor();\n",
        "\n",
        "\n",
        "        }\n",
        "        catch (IOException | InterruptedException e)\n",
        "        {\n",
        "            e.printStackTrace();\n",
        "        }\n",
        "    }\n",
        "}\n"
      ]
    },
    {
      "cell_type": "code",
      "execution_count": null,
      "metadata": {
        "colab": {
          "base_uri": "https://localhost:8080/"
        },
        "id": "AH-Pryh2kJyt",
        "outputId": "993b38e2-ac26-4778-8a6b-966271cff617"
      },
      "outputs": [
        {
          "name": "stdout",
          "output_type": "stream",
          "text": [
            "Overwriting ProcessA.java\n"
          ]
        }
      ],
      "source": [
        "%%writefile ProcessA.java\n",
        "import java.io.IOException;\n",
        "\n",
        "public class ProcessA\n",
        "{\n",
        "    public static void main(String[] args)\n",
        "    {\n",
        "        try\n",
        "        {\n",
        "            long startTime = System.currentTimeMillis();\n",
        "\n",
        "        \tlong pid = ProcessHandle.current().pid();\n",
        "            long parentPid = ProcessHandle.current().parent().map(ProcessHandle::pid).orElse(-1L);\n",
        "            System.out.println(\"PID A -> \" + pid + \" PPID -> \" + parentPid);\n",
        "\n",
        "            ProcessBuilder pbB = new ProcessBuilder(\"java\", \"ProcessB.java\");\n",
        "            pbB.redirectErrorStream(true);\n",
        "            pbB.inheritIO();\n",
        "            ProcessBuilder pbC = new ProcessBuilder(\"java\", \"ProcessC.java\");\n",
        "            pbC.redirectErrorStream(true);\n",
        "            pbC.inheritIO();\n",
        "\n",
        "            ProcessBuilder pbD = new ProcessBuilder(\"java\", \"ProcessD.java\");\n",
        "            pbD.redirectErrorStream(true);\n",
        "            pbD.inheritIO();\n",
        "\n",
        "            Process pB = pbB.start();\n",
        "            Process pC = pbC.start();\n",
        "            Process pD = pbD.start();\n",
        "\n",
        "            // Esperar a que los procesos B, C, D terminen\n",
        "            pB.waitFor();\n",
        "            pC.waitFor();\n",
        "            pD.waitFor();\n",
        "\n",
        "            long endTime = System.currentTimeMillis(); // Capture end time\n",
        "\n",
        "            // Calculate and print the execution time\n",
        "            long executionTime = endTime - startTime;\n",
        "            System.out.println(\"Total execution time of ProcessA: \" + executionTime + \" milliseconds\");\n",
        "        }\n",
        "        catch (IOException | InterruptedException e)\n",
        "        {\n",
        "            e.printStackTrace();\n",
        "        }\n",
        "    }\n",
        "}"
      ]
    },
    {
      "cell_type": "code",
      "execution_count": null,
      "metadata": {
        "colab": {
          "base_uri": "https://localhost:8080/"
        },
        "id": "QspkIP9-kQbG",
        "outputId": "9b9788ff-b36d-4ce5-c542-0bd3106b5d29"
      },
      "outputs": [
        {
          "name": "stdout",
          "output_type": "stream",
          "text": [
            "Overwriting ProcessB.java\n"
          ]
        }
      ],
      "source": [
        "%%writefile ProcessB.java\n",
        "import java.io.IOException;\n",
        "\n",
        "public class ProcessB\n",
        " {\n",
        "\tpublic static void main(String[] args)\n",
        "   {\n",
        "        try\n",
        "         {\n",
        "\n",
        "        \tlong pid = ProcessHandle.current().pid();\n",
        "            long parentPid = ProcessHandle.current().parent().map(ProcessHandle::pid).orElse(-1L);\n",
        "            System.out.println(\"PID B -> \" + pid + \" PPID -> \" + parentPid);\n",
        "\n",
        "            // Crear los procesos E, F\n",
        "            ProcessBuilder pbE = new ProcessBuilder(\"java\", \"ProcessE.java\");\n",
        "            pbE.redirectErrorStream(true);\n",
        "            pbE.inheritIO();\n",
        "\n",
        "            ProcessBuilder pbF = new ProcessBuilder(\"java\", \"ProcessF.java\");\n",
        "            pbF.redirectErrorStream(true);\n",
        "            pbF.inheritIO();\n",
        "\n",
        "            Process pE = pbE.start();\n",
        "            Process pF = pbF.start();\n",
        "\n",
        "            // Esperar a que los procesos E, F terminen\n",
        "            pE.waitFor();\n",
        "            pF.waitFor();\n",
        "        }\n",
        "        catch (IOException | InterruptedException e)\n",
        "        {\n",
        "            e.printStackTrace();\n",
        "        }\n",
        "    }\n",
        "}\n"
      ]
    },
    {
      "cell_type": "code",
      "execution_count": null,
      "metadata": {
        "colab": {
          "base_uri": "https://localhost:8080/"
        },
        "id": "67doX1yIkSgE",
        "outputId": "97e8bb4f-cb63-499f-9eea-a13310fe34e7"
      },
      "outputs": [
        {
          "name": "stdout",
          "output_type": "stream",
          "text": [
            "Overwriting ProcessC.java\n"
          ]
        }
      ],
      "source": [
        "%%writefile ProcessC.java\n",
        "public class ProcessC\n",
        "{\n",
        "\t public static void main(String[] args)\n",
        "\t {\n",
        "\t    \tlong pid = ProcessHandle.current().pid();\n",
        "\t        long parentPid = ProcessHandle.current().parent().map(ProcessHandle::pid).orElse(-1L);\n",
        "\t        System.out.println(\"PID C -> \" + pid + \" PPID -> \" + parentPid);\n",
        "\t }\n",
        "}\n"
      ]
    },
    {
      "cell_type": "code",
      "execution_count": null,
      "metadata": {
        "colab": {
          "base_uri": "https://localhost:8080/"
        },
        "id": "oemaKDjTkVmi",
        "outputId": "3479ab82-6543-495b-cc91-d77299dfda2b"
      },
      "outputs": [
        {
          "name": "stdout",
          "output_type": "stream",
          "text": [
            "Overwriting ProcessD.java\n"
          ]
        }
      ],
      "source": [
        "%%writefile ProcessD.java\n",
        "import java.io.IOException;\n",
        "\n",
        "public class ProcessD\n",
        "{\n",
        "\t public static void main(String[] args)\n",
        "\t {\n",
        "\t        try\n",
        "\t\t\t\t\t{\n",
        "\t        \tlong pid = ProcessHandle.current().pid();\n",
        "\t            // Obtener el PID del proceso padre\n",
        "\t            long parentPid = ProcessHandle.current().parent().map(ProcessHandle::pid).orElse(-1L);\n",
        "\t            System.out.println(\"PID D -> \" + pid + \" PPID -> \" + parentPid);\n",
        "\n",
        "\t            // Crear el proceso G\n",
        "\t            ProcessBuilder pbG = new ProcessBuilder(\"java\", \"ProcessG.java\");\n",
        "\t            pbG.redirectErrorStream(true);\n",
        "\t            pbG.inheritIO();\n",
        "\t            Process pG = pbG.start();\n",
        "\t            // Esperar a que el proceso G termine\n",
        "\t            pG.waitFor();\n",
        "\t        }\n",
        "\t\t\t\t\tcatch (IOException | InterruptedException e)\n",
        "\t\t\t\t\t{\n",
        "\t            e.printStackTrace();\n",
        "\t        }\n",
        "\t    }\n",
        "}\n"
      ]
    },
    {
      "cell_type": "code",
      "execution_count": null,
      "metadata": {
        "colab": {
          "base_uri": "https://localhost:8080/"
        },
        "id": "BtanLs-kkXOq",
        "outputId": "3803f84d-fc45-4d06-9d91-6f11bda25d6c"
      },
      "outputs": [
        {
          "name": "stdout",
          "output_type": "stream",
          "text": [
            "Overwriting ProcessE.java\n"
          ]
        }
      ],
      "source": [
        "%%writefile ProcessE.java\n",
        "public class ProcessE\n",
        " {\n",
        "\t public static void main(String[] args)\n",
        "\t {\n",
        "\t    \tlong pid = ProcessHandle.current().pid();\n",
        "\t        // Obtener el PID del proceso padre\n",
        "\t        long parentPid = ProcessHandle.current().parent().map(ProcessHandle::pid).orElse(-1L);\n",
        "\t        System.out.println(\"PID E -> \" + pid + \" PPID -> \" + parentPid);\n",
        "\n",
        "\t }\n",
        "}\n"
      ]
    },
    {
      "cell_type": "code",
      "execution_count": null,
      "metadata": {
        "colab": {
          "base_uri": "https://localhost:8080/"
        },
        "id": "mVoCoY87kX9p",
        "outputId": "2fbf6046-c29a-4b03-9c2e-f6e74b95e2ec"
      },
      "outputs": [
        {
          "name": "stdout",
          "output_type": "stream",
          "text": [
            "Overwriting ProcessF.java\n"
          ]
        }
      ],
      "source": [
        "%%writefile ProcessF.java\n",
        "import java.io.IOException;\n",
        "\n",
        "public class ProcessF\n",
        "{\n",
        "\t public static void main(String[] args)\n",
        "\t  {\n",
        "\t        try\n",
        "\t\t\t\t\t{\n",
        "\t        \tlong pid = ProcessHandle.current().pid();\n",
        "\t            // Obtener el PID del proceso padre\n",
        "\t            long parentPid = ProcessHandle.current().parent().map(ProcessHandle::pid).orElse(-1L);\n",
        "\t            System.out.println(\"PID F -> \" + pid + \" PPID -> \" + parentPid);\n",
        "\n",
        "\t            // Crear los procesos H, I\n",
        "\t            ProcessBuilder pbH = new ProcessBuilder(\"java\", \"ProcessH.java\");\n",
        "\t            pbH.redirectErrorStream(true);\n",
        "\t            pbH.inheritIO();\n",
        "\t            ProcessBuilder pbI = new ProcessBuilder(\"java\", \"ProcessI.java\");\n",
        "\t            pbI.redirectErrorStream(true);\n",
        "\t            pbI.inheritIO();\n",
        "\n",
        "\t            Process pH = pbH.start();\n",
        "\t            Process pI = pbI.start();\n",
        "\n",
        "\t            // Esperar a que los procesos H, I terminen\n",
        "\t            pH.waitFor();\n",
        "\t            pI.waitFor();\n",
        "\t        }\n",
        "\t\t\t\t\tcatch (IOException | InterruptedException e)\n",
        "\t\t\t\t  {\n",
        "\t            e.printStackTrace();\n",
        "\t        }\n",
        "\t    }\n",
        "}"
      ]
    },
    {
      "cell_type": "code",
      "execution_count": null,
      "metadata": {
        "colab": {
          "base_uri": "https://localhost:8080/"
        },
        "id": "uBzS7xiPkZ7E",
        "outputId": "4d48cbc8-640b-464d-ec75-2599ae4f6ebc"
      },
      "outputs": [
        {
          "name": "stdout",
          "output_type": "stream",
          "text": [
            "Overwriting ProcessG.java\n"
          ]
        }
      ],
      "source": [
        "%%writefile ProcessG.java\n",
        "public class ProcessG\n",
        "{\n",
        "\t public static void main(String[] args)\n",
        "\t {\n",
        "\t    \tlong pid = ProcessHandle.current().pid();\n",
        "\t        // Obtener el PID del proceso padre\n",
        "\t        long parentPid = ProcessHandle.current().parent().map(ProcessHandle::pid).orElse(-1L);\n",
        "\t        System.out.println(\"PID G -> \" + pid + \" PPID -> \" + parentPid);\n",
        "\n",
        "\t }\n",
        "}\n"
      ]
    },
    {
      "cell_type": "code",
      "execution_count": null,
      "metadata": {
        "colab": {
          "base_uri": "https://localhost:8080/"
        },
        "id": "la4wo4MHkbvz",
        "outputId": "3ebac0a8-1c8d-45c3-f4de-e357c582ec83"
      },
      "outputs": [
        {
          "name": "stdout",
          "output_type": "stream",
          "text": [
            "Overwriting ProcessH.java\n"
          ]
        }
      ],
      "source": [
        "%%writefile ProcessH.java\n",
        "public class ProcessH\n",
        " {\n",
        "\tpublic static void main(String[] args)\n",
        "   {\n",
        "    \tlong pid = ProcessHandle.current().pid();\n",
        "        // Obtener el PID del proceso padre\n",
        "        long parentPid = ProcessHandle.current().parent().map(ProcessHandle::pid).orElse(-1L);\n",
        "        System.out.println(\"PID H -> \" + pid + \" PPID -> \" + parentPid);\n",
        "\n",
        "  }\n",
        "}\n"
      ]
    },
    {
      "cell_type": "code",
      "execution_count": null,
      "metadata": {
        "colab": {
          "base_uri": "https://localhost:8080/"
        },
        "id": "z1YV5gbnkddM",
        "outputId": "7cf44514-3dd6-45ff-b124-e36af5820970"
      },
      "outputs": [
        {
          "name": "stdout",
          "output_type": "stream",
          "text": [
            "Overwriting ProcessI.java\n"
          ]
        }
      ],
      "source": [
        "%%writefile ProcessI.java\n",
        "import java.io.IOException;\n",
        "\n",
        "public class ProcessI\n",
        "{\n",
        "\t public static void main(String[] args)\n",
        "\t {\n",
        "\t        try\n",
        "\t\t\t\t\t{\n",
        "\t        \tlong pid = ProcessHandle.current().pid();\n",
        "\t            // Obtener el PID del proceso padre\n",
        "\t            long parentPid = ProcessHandle.current().parent().map(ProcessHandle::pid).orElse(-1L);\n",
        "\t            System.out.println(\"PID I -> \" + pid + \" PPID -> \" + parentPid);\n",
        "\n",
        "\n",
        "\t            // Crear el proceso J\n",
        "\t            ProcessBuilder pbJ = new ProcessBuilder(\"java\", \"ProcessJ.java\");\n",
        "\t            pbJ.redirectErrorStream(true);\n",
        "\t            pbJ.inheritIO();\n",
        "\t            Process pJ = pbJ.start();\n",
        "\t            // Esperar a que el proceso J termine\n",
        "\t            pJ.waitFor();\n",
        "\t        }\n",
        "\t\t\t\t\tcatch (IOException | InterruptedException e)\n",
        "\t\t\t\t\t {\n",
        "\t            e.printStackTrace();\n",
        "\t        }\n",
        "\t    }\n",
        "}\n"
      ]
    },
    {
      "cell_type": "code",
      "execution_count": null,
      "metadata": {
        "colab": {
          "base_uri": "https://localhost:8080/"
        },
        "id": "v7Z9rMsjkgU3",
        "outputId": "c4c7e9f6-cc23-4965-8e82-c7316370667f"
      },
      "outputs": [
        {
          "name": "stdout",
          "output_type": "stream",
          "text": [
            "Overwriting ProcessJ.java\n"
          ]
        }
      ],
      "source": [
        "%%writefile ProcessJ.java\n",
        "public class ProcessJ\n",
        " {\n",
        "\tpublic static void main(String[] args)\n",
        "  {\n",
        "    \tlong pid = ProcessHandle.current().pid();\n",
        "        // Obtener el PID del proceso padre\n",
        "        long parentPid = ProcessHandle.current().parent().map(ProcessHandle::pid).orElse(-1L);\n",
        "        System.out.println(\"PID J -> \" + pid + \" PPID -> \" + parentPid);\n",
        "\n",
        "    }\n",
        "}\n"
      ]
    },
    {
      "cell_type": "markdown",
      "metadata": {
        "id": "VApA3R6UiuBF"
      },
      "source": [
        "###**EJECUTO EL COMANDO \"NOHUP\", PARA ASEGURAR QUE EL PROCESO SE EJECUTE EN SEGUNDO PLANO, SIN BLOQUEAR LA TERMINAL**"
      ]
    },
    {
      "cell_type": "code",
      "execution_count": null,
      "metadata": {
        "colab": {
          "base_uri": "https://localhost:8080/"
        },
        "id": "1Y6iti0FjHGR",
        "outputId": "f60edf06-bf13-4a61-cf4a-ec4081ad0d9e"
      },
      "outputs": [
        {
          "name": "stdout",
          "output_type": "stream",
          "text": [
            "nohup: appending output to 'nohup.out'\n"
          ]
        }
      ],
      "source": [
        "!nohup javac ProcessTree.java &"
      ]
    },
    {
      "cell_type": "markdown",
      "metadata": {
        "id": "DBWA0pHJjOK1"
      },
      "source": [
        "**MUESTRO LOS PROCESOS**"
      ]
    },
    {
      "cell_type": "code",
      "execution_count": null,
      "metadata": {
        "colab": {
          "base_uri": "https://localhost:8080/"
        },
        "id": "Cyszy8gWjOt2",
        "outputId": "5250ff5d-c460-40cb-d1a2-759a02a1b855"
      },
      "outputs": [
        {
          "name": "stdout",
          "output_type": "stream",
          "text": [
            "root       40969  0.0  0.2 5969348 36020 ?       Sl   16:24   0:00 javac ProcessTree.java\n",
            "root       40988  0.0  0.0   6620  2264 ?        S    16:24   0:00 grep ProcessTree.java\n"
          ]
        }
      ],
      "source": [
        "!ps -aux | grep ProcessTree.java"
      ]
    },
    {
      "cell_type": "markdown",
      "metadata": {
        "id": "5OwoUDPDjRbM"
      },
      "source": [
        "**MUESTRO EL ÁRBOL DE PROCESOS GENERADO**"
      ]
    },
    {
      "cell_type": "code",
      "execution_count": null,
      "metadata": {
        "colab": {
          "base_uri": "https://localhost:8080/"
        },
        "id": "qvBcRxRRjWXM",
        "outputId": "a92007b1-b17b-458b-a20b-0fbbc71c2047"
      },
      "outputs": [
        {
          "name": "stdout",
          "output_type": "stream",
          "text": [
            "javac(40969)─┬─{javac}(40970)\n",
            "             ├─{javac}(40971)\n",
            "             ├─{javac}(40972)\n",
            "             ├─{javac}(40973)\n",
            "             ├─{javac}(40974)\n",
            "             ├─{javac}(40975)\n",
            "             ├─{javac}(40976)\n",
            "             ├─{javac}(40977)\n",
            "             ├─{javac}(40978)\n",
            "             ├─{javac}(40979)\n",
            "             ├─{javac}(40980)\n",
            "             ├─{javac}(40981)\n",
            "             ├─{javac}(40982)\n",
            "             ├─{javac}(40983)\n",
            "             ├─{javac}(40984)\n",
            "             └─{javac}(40986)\n"
          ]
        }
      ],
      "source": [
        "!ps -ef | grep '[P]rocessTree.java'  | awk '{print $2}' | xargs pstree -p"
      ]
    },
    {
      "cell_type": "markdown",
      "metadata": {
        "id": "PgzVaaYVjeOF"
      },
      "source": [
        "**CORRO EL ARCHIVO PARA VER QUE MUESTRA POR PANTALLA**"
      ]
    },
    {
      "cell_type": "code",
      "execution_count": null,
      "metadata": {
        "colab": {
          "base_uri": "https://localhost:8080/"
        },
        "id": "5elUscEcje1a",
        "outputId": "7dc69d0f-f4cd-4e76-8e2b-6c3768f650c6"
      },
      "outputs": [
        {
          "name": "stdout",
          "output_type": "stream",
          "text": [
            "PID A -> 41017 PPID -> 40999\n",
            "PID C -> 41047 PPID -> 41017\n",
            "PID B -> 41044 PPID -> 41017\n",
            "PID D -> 41054 PPID -> 41017\n",
            "PID E -> 41120 PPID -> 41044\n",
            "PID G -> 41134 PPID -> 41054\n",
            "PID F -> 41122 PPID -> 41044\n",
            "PID I -> 41196 PPID -> 41122\n",
            "PID H -> 41193 PPID -> 41122\n",
            "PID J -> 41240 PPID -> 41196\n",
            "Total execution time of ProcessA: 11781 milliseconds\n"
          ]
        }
      ],
      "source": [
        "!java ProcessTree"
      ]
    },
    {
      "cell_type": "markdown",
      "metadata": {
        "id": "ExyRMboh2fEy"
      },
      "source": [
        "##Python"
      ]
    },
    {
      "cell_type": "markdown",
      "metadata": {
        "id": "0vwPbVjNd61Y"
      },
      "source": [
        "**ESCRIBO EL CODIGO EN UN ARCHIVO \".py\"**\n",
        "\n",
        "\n",
        "\n",
        "\n",
        "\n",
        "\n"
      ]
    },
    {
      "cell_type": "code",
      "execution_count": 395,
      "metadata": {
        "colab": {
          "base_uri": "https://localhost:8080/"
        },
        "id": "tv4hvTAY2gZD",
        "outputId": "7fa1f5e5-b5d8-4b62-e2e8-fb96ec745f3d"
      },
      "outputs": [
        {
          "output_type": "stream",
          "name": "stdout",
          "text": [
            "Overwriting procesos.py\n"
          ]
        }
      ],
      "source": [
        "%%writefile procesos.py\n",
        "import os\n",
        "import time\n",
        "import threading\n",
        "\n",
        "#GLOBAL VARIABLES\n",
        "SLEEP_TIME = 3\n",
        "CHECK_PSTREE = False\n",
        "IS_CHILD = 0\n",
        "\n",
        "def childrenCreatorHandler(option):\n",
        "    match option:\n",
        "        case 'B':\n",
        "            createChild(\"EF\")\n",
        "\n",
        "        case 'D':\n",
        "            createChild(\"G\")\n",
        "\n",
        "        case 'F':\n",
        "            createChild(\"HI\")\n",
        "\n",
        "        case 'I':\n",
        "            createChild(\"J\")\n",
        "\n",
        "def createChild(children):\n",
        "    global CHECK_PSTREE\n",
        "    children_number = len(children)\n",
        "    for child in children:\n",
        "        if os.fork() == IS_CHILD:\n",
        "            print(\"[\", child, \"] -> PID: \", os.getpid(), \"PPID: \", os.getppid())\n",
        "            childrenCreatorHandler(child)\n",
        "            if CHECK_PSTREE:\n",
        "              time.sleep(SLEEP_TIME)\n",
        "            os._exit(os.EX_OK)\n",
        "\n",
        "    for i in range(0,children_number):\n",
        "        os.wait()\n",
        "\n",
        "\n",
        "def main():\n",
        "    print(\"[ A ] -> PID: \", os.getpid())\n",
        "    createChild(\"BCD\")\n",
        "\n",
        "startTimer = time.time()\n",
        "main()\n",
        "endTimer = time.time()\n",
        "print(\"Duracion total: \",endTimer-startTimer, \"s\")"
      ]
    },
    {
      "cell_type": "markdown",
      "metadata": {
        "id": "IuyHwwdCeV_X"
      },
      "source": [
        "**EJECUTO EL COMANDO \"NOHUP\", PARA ASEGURAR QUE EL PROCESO SE EJECUTE EN SEGUNDO PLANO, SIN BLOQUEAR LA TERMINAL**"
      ]
    },
    {
      "cell_type": "code",
      "execution_count": 396,
      "metadata": {
        "colab": {
          "base_uri": "https://localhost:8080/"
        },
        "id": "7DKx2PvqPcd8",
        "outputId": "bd1ae231-1fd4-4b41-aebe-7adfb2b31c64"
      },
      "outputs": [
        {
          "output_type": "stream",
          "name": "stdout",
          "text": [
            "nohup: appending output to 'nohup.out'\n"
          ]
        }
      ],
      "source": [
        "!nohup python3 procesos.py &"
      ]
    },
    {
      "cell_type": "code",
      "execution_count": 397,
      "metadata": {
        "colab": {
          "base_uri": "https://localhost:8080/"
        },
        "id": "GTeSRuimDpf8",
        "outputId": "dd34d9b7-35d6-4c24-c9f5-5e4c4235382d"
      },
      "outputs": [
        {
          "output_type": "stream",
          "name": "stdout",
          "text": [
            "[ A ] -> PID:  79069\n",
            "[ B ] -> PID:  79070 PPID:  79069\n",
            "[ C ] -> PID:  79071 PPID:  79069\n",
            "[ F ] -> PID:  79074 PPID:  79070\n",
            "[ D ] -> PID:  79072 PPID:  79069\n",
            "[ H ] -> PID:  79075 PPID:  79074\n",
            "[ E ] -> PID:  79073 PPID:  79070\n",
            "[ G ] -> PID:  79076 PPID:  79072\n",
            "[ I ] -> PID:  79077 PPID:  79074\n",
            "[ J ] -> PID:  79078 PPID:  79077\n",
            "Duracion total:  0.00828242301940918 s\n"
          ]
        }
      ],
      "source": [
        "!python3 procesos.py"
      ]
    },
    {
      "cell_type": "markdown",
      "metadata": {
        "id": "XVfRM4GaHVqq"
      },
      "source": [
        "Se puede observar como la ejecución demora aproximadamente 8 milisegundos"
      ]
    },
    {
      "cell_type": "markdown",
      "metadata": {
        "id": "XrfQAy4Qfxqa"
      },
      "source": [
        "**MUESTRO LOS PROCESOS**"
      ]
    },
    {
      "cell_type": "code",
      "execution_count": 398,
      "metadata": {
        "colab": {
          "base_uri": "https://localhost:8080/"
        },
        "id": "LctM4G-ZPgfv",
        "outputId": "79eea22f-7926-4e5f-b07f-0be37184dde8"
      },
      "outputs": [
        {
          "output_type": "stream",
          "name": "stdout",
          "text": [
            "root       73710  0.0  0.0  17504  9864 ?        S    18:33   0:00 python3 procesos.py\n",
            "root       73711  0.0  0.0  17504  6460 ?        S    18:33   0:00 python3 procesos.py\n",
            "root       73712  0.0  0.0  17504  6456 ?        S    18:33   0:00 python3 procesos.py\n",
            "root       73713  0.0  0.0  17504  6460 ?        S    18:33   0:00 python3 procesos.py\n",
            "root       73714  0.0  0.0  17504  6204 ?        S    18:33   0:00 python3 procesos.py\n",
            "root       73715  0.0  0.0  17504  6460 ?        S    18:33   0:00 python3 procesos.py\n",
            "root       73716  0.0  0.0  17504  6204 ?        S    18:33   0:00 python3 procesos.py\n",
            "root       73717  0.0  0.0  17504  6204 ?        S    18:33   0:00 python3 procesos.py\n",
            "root       73718  0.0  0.0  17504  6204 ?        S    18:33   0:00 python3 procesos.py\n",
            "root       73719  0.0  0.0  17504  6204 ?        S    18:33   0:00 python3 procesos.py\n",
            "root       79081  0.0  0.0   6484  2304 ?        S    18:55   0:00 grep procesos\n"
          ]
        }
      ],
      "source": [
        "!ps -aux | grep procesos"
      ]
    },
    {
      "cell_type": "markdown",
      "metadata": {
        "id": "k-XErJbmf3fR"
      },
      "source": [
        "**MUESTRO EL ÁRBOL DE PROCESOS GENERADO**"
      ]
    },
    {
      "cell_type": "code",
      "execution_count": 400,
      "metadata": {
        "colab": {
          "base_uri": "https://localhost:8080/"
        },
        "id": "SVGRZ2nwPjkL",
        "outputId": "3c6560e3-b317-4927-e3b2-52dd984bf417"
      },
      "outputs": [
        {
          "output_type": "stream",
          "name": "stdout",
          "text": [
            "python3(73710)─┬─python3(73711)─┬─python3(73714)\n",
            "               │                └─python3(73715)─┬─python3(73717)\n",
            "               │                                 └─python3(73718)───python3(73719)\n",
            "               ├─python3(73712)\n",
            "               └─python3(73713)───python3(73716)\n"
          ]
        }
      ],
      "source": [
        "!ps -aux | grep 'procesos.py' | head -1 | awk '{print $2}' | xargs pstree -p"
      ]
    },
    {
      "cell_type": "markdown",
      "metadata": {
        "id": "XxCF1ijqglB5"
      },
      "source": [
        "**CORRO EL ARCHIVO PARA VER QUE MUESTRA POR PANTALLA**"
      ]
    },
    {
      "cell_type": "code",
      "execution_count": 401,
      "metadata": {
        "colab": {
          "base_uri": "https://localhost:8080/"
        },
        "id": "9VQrQLklgmgp",
        "outputId": "86a69e05-4792-40a3-b675-85bb2fc351a0"
      },
      "outputs": [
        {
          "output_type": "stream",
          "name": "stdout",
          "text": [
            "[ A ] -> PID:  79090\n",
            "[ B ] -> PID:  79091 PPID:  79090\n",
            "[ D ] -> PID:  79093 PPID:  79090\n",
            "[ F ] -> PID:  79095 PPID:  79091\n",
            "[ C ] -> PID:  79092 PPID:  79090\n",
            "[ G ] -> PID:  79096 PPID:  79093\n",
            "[ E ] -> PID:  79094 PPID:  79091\n",
            "[ H ] -> PID:  79097 PPID:  79095\n",
            "[ I ] -> PID:  79098 PPID:  79095\n",
            "[ J ] -> PID:  79099 PPID:  79098\n",
            "Duracion total:  0.010158300399780273 s\n"
          ]
        }
      ],
      "source": [
        "!python3 procesos.py"
      ]
    },
    {
      "cell_type": "markdown",
      "metadata": {
        "id": "TaS6Ly5CHbi6"
      },
      "source": [
        "Se puede observar como la ejecución tarda aproximadamente 8 milisegundos."
      ]
    },
    {
      "cell_type": "markdown",
      "metadata": {
        "id": "6rijcApaI-oe"
      },
      "source": []
    },
    {
      "cell_type": "markdown",
      "metadata": {
        "id": "jauzC4492h2C"
      },
      "source": [
        "##Go"
      ]
    },
    {
      "cell_type": "markdown",
      "metadata": {
        "id": "ZjcD9dOYh23P"
      },
      "source": [
        "**INSTALO GO**"
      ]
    },
    {
      "cell_type": "code",
      "execution_count": null,
      "metadata": {
        "colab": {
          "base_uri": "https://localhost:8080/"
        },
        "id": "BHCvEDOe2ixJ",
        "outputId": "a6cda969-1632-4702-8b44-85c4ef6ee4c1"
      },
      "outputs": [
        {
          "name": "stdout",
          "output_type": "stream",
          "text": [
            "Reading package lists... Done\n",
            "Building dependency tree... Done\n",
            "Reading state information... Done\n",
            "The following additional packages will be installed:\n",
            "  golang-1.18-go golang-1.18-src golang-src\n",
            "Suggested packages:\n",
            "  bzr | brz mercurial subversion\n",
            "The following NEW packages will be installed:\n",
            "  golang-1.18-go golang-1.18-src golang-go golang-src\n",
            "0 upgraded, 4 newly installed, 0 to remove and 45 not upgraded.\n",
            "Need to get 82.3 MB of archives.\n",
            "After this operation, 436 MB of additional disk space will be used.\n",
            "Get:1 http://archive.ubuntu.com/ubuntu jammy-updates/main amd64 golang-1.18-src all 1.18.1-1ubuntu1.1 [16.2 MB]\n",
            "Get:2 http://archive.ubuntu.com/ubuntu jammy-updates/main amd64 golang-1.18-go amd64 1.18.1-1ubuntu1.1 [66.0 MB]\n",
            "Get:3 http://archive.ubuntu.com/ubuntu jammy/main amd64 golang-src all 2:1.18~0ubuntu2 [4,438 B]\n",
            "Get:4 http://archive.ubuntu.com/ubuntu jammy/main amd64 golang-go amd64 2:1.18~0ubuntu2 [41.8 kB]\n",
            "Fetched 82.3 MB in 4s (22.4 MB/s)\n",
            "Selecting previously unselected package golang-1.18-src.\n",
            "(Reading database ... 121752 files and directories currently installed.)\n",
            "Preparing to unpack .../golang-1.18-src_1.18.1-1ubuntu1.1_all.deb ...\n",
            "Unpacking golang-1.18-src (1.18.1-1ubuntu1.1) ...\n",
            "Selecting previously unselected package golang-1.18-go.\n",
            "Preparing to unpack .../golang-1.18-go_1.18.1-1ubuntu1.1_amd64.deb ...\n",
            "Unpacking golang-1.18-go (1.18.1-1ubuntu1.1) ...\n",
            "Selecting previously unselected package golang-src.\n",
            "Preparing to unpack .../golang-src_2%3a1.18~0ubuntu2_all.deb ...\n",
            "Unpacking golang-src (2:1.18~0ubuntu2) ...\n",
            "Selecting previously unselected package golang-go:amd64.\n",
            "Preparing to unpack .../golang-go_2%3a1.18~0ubuntu2_amd64.deb ...\n",
            "Unpacking golang-go:amd64 (2:1.18~0ubuntu2) ...\n",
            "Setting up golang-1.18-src (1.18.1-1ubuntu1.1) ...\n",
            "Setting up golang-src (2:1.18~0ubuntu2) ...\n",
            "Setting up golang-1.18-go (1.18.1-1ubuntu1.1) ...\n",
            "Setting up golang-go:amd64 (2:1.18~0ubuntu2) ...\n",
            "Processing triggers for man-db (2.10.2-1) ...\n"
          ]
        }
      ],
      "source": [
        "!apt install golang-go"
      ]
    },
    {
      "cell_type": "markdown",
      "metadata": {
        "id": "XixGEqHYhA6T"
      },
      "source": [
        "**ESCRIBO EL CODIGO EN UN ARCHIVO \".go\"**"
      ]
    },
    {
      "cell_type": "code",
      "execution_count": null,
      "metadata": {
        "colab": {
          "base_uri": "https://localhost:8080/"
        },
        "id": "_BTfxUAz5uCr",
        "outputId": "ebb2b767-cc73-427a-952e-0ac83a5fda45"
      },
      "outputs": [
        {
          "name": "stdout",
          "output_type": "stream",
          "text": [
            "Writing procesos.go\n"
          ]
        }
      ],
      "source": [
        "%%writefile procesos.go\n",
        "package main\n",
        "\n",
        "import (\n",
        "\t\"fmt\"\n",
        "\t\"os\"\n",
        "\t\"os/exec\"\n",
        "\t\"strconv\"\n",
        "\t\"time\"\n",
        ")\n",
        "\n",
        "const (\n",
        "\ttimeToSleep   time.Duration = 100   //amount of seconds to wait for each process to finish, in order to check the process tree\n",
        "\tprocArgLen    int           = 2     //the arguments should be 2 for a valid process in this case (filePath and letter)\n",
        "\tfilePathIdx   int           = 0     //argument 0: file's path\n",
        "\tletterArgIdx  int           = 1     //argument 1: letter corresponding to that process\n",
        "\tcheckPstree   bool          = true //boolean that defines if each process has to wait in order to get the pstree\n",
        "\tdefaultLetter string        = \"A\"\n",
        "\tprocessLetter1, processLetter2, processLetter3, processLetter4,\n",
        "\tprocessLetter5, processLetter6, processLetter7, processLetter8,\n",
        "\tprocessLetter9, processLetter10 string = \"A\", \"B\", \"C\", \"D\", \"E\", \"F\", \"G\", \"H\", \"I\", \"J\" //letters corresponding to each process in the tree\n",
        ")\n",
        "\n",
        "func main() {\n",
        "\tstart := time.Now()\n",
        "\tcurLetter := attendCurrentProcess()\n",
        "\tfollowingLetters := followingLetters(curLetter)\n",
        "\tchildrenProcesses, err := createChildrenProcesses(followingLetters)\n",
        "\tif err != nil {\n",
        "\t\tfmt.Println(err)\n",
        "\t\treturn\n",
        "\t}\n",
        "\n",
        "\t//if this variable is true, perform an active wait in the process to be able to see the tree.\n",
        "\tif checkPstree {\n",
        "\t\ttime.Sleep(timeToSleep * time.Second)\n",
        "\t}\n",
        "\tif err = waitForChildrenProcesses(childrenProcesses); err != nil {\n",
        "\t\tfmt.Println(err)\n",
        "\t\treturn\n",
        "\t}\n",
        "\n",
        "\t//track the execution time in case it's the main process.\n",
        "\tif curLetter == defaultLetter {\n",
        "\t\ttimeTrack(start, curLetter)\n",
        "\t}\n",
        "}\n",
        "\n",
        "func attendCurrentProcess() (curLetter string) {\n",
        "\tpid := strconv.Itoa(os.Getpid())\n",
        "\t//main process:\n",
        "\tif len(os.Args) < procArgLen {\n",
        "\t\tcurLetter = defaultLetter\n",
        "\t\tfmt.Println(\"Soy el proceso de letra:\", curLetter, \", Mi PID es:\", pid)\n",
        "\t} else { //children process\n",
        "\t\tcurLetter = os.Args[letterArgIdx]\n",
        "\t\tfatherPid := os.Getppid()\n",
        "\t\tfmt.Println(\"Soy el proceso de letra:\", curLetter, \", Mi PID es:\", pid, \", El PID de mi padre es:\", fatherPid)\n",
        "\t}\n",
        "\treturn\n",
        "}\n",
        "\n",
        "func followingLetters(letter string) (followingLetters []string) {\n",
        "\tswitch letter {\n",
        "\tcase defaultLetter:\n",
        "\t\tfollowingLetters = []string{processLetter2, processLetter3, processLetter4}\n",
        "\tcase processLetter2:\n",
        "\t\tfollowingLetters = []string{processLetter5, processLetter6}\n",
        "\tcase processLetter4:\n",
        "\t\tfollowingLetters = []string{processLetter7}\n",
        "\tcase processLetter6:\n",
        "\t\tfollowingLetters = []string{processLetter8, processLetter9}\n",
        "\tcase processLetter9:\n",
        "\t\tfollowingLetters = []string{processLetter10}\n",
        "\t}\n",
        "\treturn\n",
        "}\n",
        "\n",
        "func createChildrenProcesses(followingLetters []string) ([]*exec.Cmd, error) {\n",
        "\t//os.Args[filePathIdx] is this file's path, to execute main once again.\n",
        "\tfilePath := os.Args[filePathIdx]\n",
        "\n",
        "\tvar childrenProcesses []*exec.Cmd\n",
        "\tfor _, letter := range followingLetters {\n",
        "\t\tif err := initChildProcess(&childrenProcesses, filePath, letter); err != nil {\n",
        "\t\t\treturn nil, err\n",
        "\t\t}\n",
        "\t}\n",
        "\treturn childrenProcesses, nil\n",
        "}\n",
        "\n",
        "func initChildProcess(childrenProcesses *[]*exec.Cmd, filePath string, args ...string) (err error) {\n",
        "\t//arguments: the letter, current PID (it's child's parent).\n",
        "\tcmd := exec.Command(filePath, args...)\n",
        "\t*childrenProcesses = append(*childrenProcesses, cmd)\n",
        "\t// Set the child process's output to the standard output of the parent process\n",
        "\tcmd.Stdout = os.Stdout\n",
        "\tif err = cmd.Start(); err != nil {\n",
        "\t\treturn fmt.Errorf(\"Error starting child process: %w\", err)\n",
        "\t}\n",
        "\treturn\n",
        "}\n",
        "\n",
        "func waitForChildrenProcesses(childrenProcesses []*exec.Cmd) error {\n",
        "\tfor _, proc := range childrenProcesses {\n",
        "\t\tif err := proc.Wait(); err != nil {\n",
        "\t\t\treturn fmt.Errorf(\"Error waiting for child process: %w\", err)\n",
        "\t\t}\n",
        "\t}\n",
        "\treturn nil\n",
        "}\n",
        "\n",
        "func timeTrack(start time.Time, name string) {\n",
        "\telapsed := time.Since(start)\n",
        "\tfmt.Printf(\"\\n%s ejecutó en %s\\n\", name, elapsed)\n",
        "}\n"
      ]
    },
    {
      "cell_type": "markdown",
      "metadata": {
        "id": "iAs34w3ghKYR"
      },
      "source": [
        "**EJECUTO EL COMANDO \"NOHUP\", PARA ASEGURAR QUE EL PROCESO SE EJECUTE EN SEGUNDO PLANO, SIN BLOQUEAR LA TERMINAL**"
      ]
    },
    {
      "cell_type": "code",
      "execution_count": null,
      "metadata": {
        "id": "VJ6gLeEw55um"
      },
      "outputs": [],
      "source": [
        "!nohup go run procesos.go 2>/dev/null &"
      ]
    },
    {
      "cell_type": "markdown",
      "metadata": {
        "id": "F8EoYEQMhP4C"
      },
      "source": [
        "**MUESTRO LOS PROCESOS**"
      ]
    },
    {
      "cell_type": "code",
      "execution_count": null,
      "metadata": {
        "colab": {
          "base_uri": "https://localhost:8080/"
        },
        "id": "eOIDeRwe6PFW",
        "outputId": "08d1d485-c485-475b-ea80-3fbb7a0fddaf"
      },
      "outputs": [
        {
          "name": "stdout",
          "output_type": "stream",
          "text": [
            "root       43710  0.3  0.1 1158308 17896 ?       Sl   16:32   0:00 go run procesos.go\n",
            "root       43974 10.0  0.1 1158308 17632 ?       Sl   16:33   0:00 go run procesos.go\n",
            "root       44061  0.0  0.0   6484  2268 ?        S    16:33   0:00 grep procesos\n"
          ]
        }
      ],
      "source": [
        "!ps -aux | grep procesos"
      ]
    },
    {
      "cell_type": "markdown",
      "metadata": {
        "id": "JVLEFqLToBem"
      },
      "source": [
        "revisar por qué no salen con el grep de arriba los procesos hijos. si uso ps -e sí se ven con el nombre \"procesos\"\n",
        "\n",
        "con el ps de abajo serían los que tienen de nombre de command /tmp/go-build2679718851/b001/exe/"
      ]
    },
    {
      "cell_type": "code",
      "execution_count": null,
      "metadata": {
        "colab": {
          "base_uri": "https://localhost:8080/"
        },
        "id": "mxfHYI3unrI-",
        "outputId": "6409c642-982d-49e2-95a6-82d19750cd6d"
      },
      "outputs": [
        {
          "name": "stdout",
          "output_type": "stream",
          "text": [
            "USER         PID %CPU %MEM    VSZ   RSS TTY      STAT START   TIME COMMAND\n",
            "root           1  0.0  0.0   1076     8 ?        Ss   13:39   0:00 /sbin/docker-init -- /datalab/run\n",
            "root           7  0.0  0.4 893296 56688 ?        Rl   13:39   0:10 /tools/node/bin/node /datalab/web\n",
            "root          18  0.0  0.0   7376  3492 ?        S    13:39   0:06 /bin/bash -e /usr/local/colab/bin\n",
            "root          20  0.0  0.0   7376  1832 ?        S    13:39   0:00 /bin/bash -e /datalab/run.sh\n",
            "root          22  0.0  0.1 1236268 15588 ?       Sl   13:39   0:03 /usr/colab/bin/kernel_manager_pro\n",
            "root          24  0.0  0.0   5808   996 ?        Ss   13:39   0:00 tail -n +0 -F /root/.config/Googl\n",
            "root          63  0.0  0.0      0     0 ?        Z    13:39   0:07 [python3] <defunct>\n",
            "root          64  0.0  0.3  67700 52084 ?        S    13:39   0:00 python3 /usr/local/bin/colab-file\n",
            "root          86  0.1  0.8 358640 113724 ?       Rl   13:39   0:12 /usr/bin/python3 /usr/local/bin/j\n",
            "root          87  0.0  0.0 1228612 8824 ?        Sl   13:39   0:07 /usr/local/bin/dap_multiplexer --\n",
            "root         331  0.4  0.8 1117620 112888 ?      Ssl  13:40   0:45 /usr/bin/python3 -m colab_kernel_\n",
            "root         370  0.1  0.1 540428 14952 ?        Sl   13:41   0:15 /usr/bin/python3 /usr/local/lib/p\n",
            "root       43058  0.1  0.1 1239188 18200 ?       Sl   16:31   0:00 /usr/colab/bin/language_service -\n",
            "root       43063  5.0  0.9 895148 121856 ?       Sl   16:31   0:07 node /datalab/web/pyright/pyright\n",
            "root       43710  0.3  0.1 1158308 17896 ?       Sl   16:32   0:00 go run procesos.go\n",
            "root       43743  0.0  0.0 702996  1748 ?        Sl   16:32   0:00 /tmp/go-build1833537708/b001/exe/\n",
            "root       43747  0.0  0.0 702996  1704 ?        Sl   16:32   0:00 /tmp/go-build1833537708/b001/exe/\n",
            "root       43748  0.0  0.0 702996  1708 ?        Sl   16:32   0:00 /tmp/go-build1833537708/b001/exe/\n",
            "root       43749  0.0  0.0 703252  1780 ?        Sl   16:32   0:00 /tmp/go-build1833537708/b001/exe/\n",
            "root       43762  0.0  0.0 703252  1032 ?        Sl   16:32   0:00 /tmp/go-build1833537708/b001/exe/\n",
            "root       43763  0.0  0.0 702996  1700 ?        Sl   16:32   0:00 /tmp/go-build1833537708/b001/exe/\n",
            "root       43764  0.0  0.0 702996  1748 ?        Sl   16:32   0:00 /tmp/go-build1833537708/b001/exe/\n",
            "root       43776  0.0  0.0 702996  1036 ?        Sl   16:32   0:00 /tmp/go-build1833537708/b001/exe/\n",
            "root       43777  0.0  0.0 702996  1704 ?        Sl   16:32   0:00 /tmp/go-build1833537708/b001/exe/\n",
            "root       43786  0.0  0.0 702996  1748 ?        Sl   16:32   0:00 /tmp/go-build1833537708/b001/exe/\n",
            "root       43974  6.6  0.1 1158308 17632 ?       Sl   16:33   0:00 go run procesos.go\n",
            "root       44012  0.0  0.0 702996  1708 ?        Sl   16:33   0:00 /tmp/go-build862980386/b001/exe/p\n",
            "root       44017  0.0  0.0 702996  1748 ?        Sl   16:33   0:00 /tmp/go-build862980386/b001/exe/p\n",
            "root       44018  0.0  0.0 702996  1744 ?        Sl   16:33   0:00 /tmp/go-build862980386/b001/exe/p\n",
            "root       44022  0.0  0.0 702996  1748 ?        Sl   16:33   0:00 /tmp/go-build862980386/b001/exe/p\n",
            "root       44024  0.0  0.0 702996  1028 ?        Sl   16:33   0:00 /tmp/go-build862980386/b001/exe/p\n",
            "root       44027  0.0  0.0 702996  1748 ?        Sl   16:33   0:00 /tmp/go-build862980386/b001/exe/p\n",
            "root       44034  0.0  0.0 702996  1036 ?        Sl   16:33   0:00 /tmp/go-build862980386/b001/exe/p\n",
            "root       44041  0.0  0.0 702996  1704 ?        Sl   16:33   0:00 /tmp/go-build862980386/b001/exe/p\n",
            "root       44042  0.0  0.0 702996  1744 ?        Sl   16:33   0:00 /tmp/go-build862980386/b001/exe/p\n",
            "root       44050  0.0  0.0 702996  1032 ?        Sl   16:33   0:00 /tmp/go-build862980386/b001/exe/p\n",
            "root       44065  0.0  0.0   5776  1008 ?        S    16:33   0:00 sleep 1\n",
            "root       44066  0.0  0.0  10076  1564 ?        R    16:33   0:00 ps -aux\n"
          ]
        }
      ],
      "source": [
        "!ps -aux"
      ]
    },
    {
      "cell_type": "code",
      "execution_count": null,
      "metadata": {
        "colab": {
          "base_uri": "https://localhost:8080/"
        },
        "id": "XDR8M3eOR7J4",
        "outputId": "8772d15c-3dfd-4cd1-f019-8bc7e67ede97"
      },
      "outputs": [
        {
          "name": "stdout",
          "output_type": "stream",
          "text": [
            "root       43710  0.3  0.1 1158308 17896 ?       Sl   16:32   0:00 go run procesos.go\n",
            "root       43974  1.8  0.1 1158308 17632 ?       Sl   16:33   0:00 go run procesos.go\n"
          ]
        }
      ],
      "source": [
        "!ps -aux | grep '[p]rocesos'"
      ]
    },
    {
      "cell_type": "markdown",
      "metadata": {
        "id": "V6S1-dHwhVaJ"
      },
      "source": [
        "**MUESTRO EL ÁRBOL DE PROCESOS GENERADO**"
      ]
    },
    {
      "cell_type": "code",
      "execution_count": null,
      "metadata": {
        "colab": {
          "base_uri": "https://localhost:8080/"
        },
        "id": "kQkW5Umd6ofh",
        "outputId": "bab25f71-1a23-4d95-ae37-68b26d7f5dd3"
      },
      "outputs": [
        {
          "name": "stdout",
          "output_type": "stream",
          "text": [
            "go(43974)───procesos(44012)─┬─procesos(44017)─┬─procesos(44024)\n",
            "                            │                 └─procesos(44027)─┬─procesos(44041)\n",
            "                            │                                   └─procesos(44042)───procesos(44050)\n",
            "                            ├─procesos(44018)\n",
            "                            └─procesos(44022)───procesos(44034)\n"
          ]
        }
      ],
      "source": [
        "!ps -aux | grep '[p]rocesos' | awk '{print $2}' | xargs pstree -p -T -l"
      ]
    },
    {
      "cell_type": "markdown",
      "metadata": {
        "id": "QqLDaeTASoo6"
      },
      "source": [
        "**Árbol de procesos sin omitir threads**"
      ]
    },
    {
      "cell_type": "code",
      "execution_count": null,
      "metadata": {
        "id": "Pjos71irSa1i"
      },
      "outputs": [],
      "source": [
        "!pstree -p -l 2356"
      ]
    },
    {
      "cell_type": "markdown",
      "metadata": {
        "id": "BI9lKqF1hb0l"
      },
      "source": [
        "**CORRO EL ARCHIVO PARA VER QUE MUESTRA POR PANTALLA**"
      ]
    },
    {
      "cell_type": "code",
      "execution_count": null,
      "metadata": {
        "colab": {
          "base_uri": "https://localhost:8080/"
        },
        "id": "DuLyV9uBhdCW",
        "outputId": "d5bced3d-da98-481b-99b2-e955273a3964"
      },
      "outputs": [
        {
          "name": "stdout",
          "output_type": "stream",
          "text": [
            "Soy el proceso de letra: A , Mi PID es: 43357\n",
            "Soy el proceso de letra: B , Mi PID es: 43361 , El PID de mi padre es: 43357\n",
            "Soy el proceso de letra: C , Mi PID es: 43365 , El PID de mi padre es: 43357\n",
            "Soy el proceso de letra: D , Mi PID es: 43369 , El PID de mi padre es: 43357\n",
            "Soy el proceso de letra: E , Mi PID es: 43370 , El PID de mi padre es: 43361\n",
            "Soy el proceso de letra: F , Mi PID es: 43381 , El PID de mi padre es: 43361\n",
            "Soy el proceso de letra: H , Mi PID es: 43386 , El PID de mi padre es: 43381\n",
            "Soy el proceso de letra: G , Mi PID es: 43377 , El PID de mi padre es: 43369\n",
            "Soy el proceso de letra: I , Mi PID es: 43387 , El PID de mi padre es: 43381\n",
            "Soy el proceso de letra: J , Mi PID es: 43396 , El PID de mi padre es: 43387\n",
            "signal: interrupt\n"
          ]
        }
      ],
      "source": [
        "!go run procesos.go"
      ]
    },
    {
      "cell_type": "markdown",
      "metadata": {
        "id": "gOSEdOAcVmqD"
      },
      "source": [
        "Podemos notar que la ejecución demora aproximadamente 12 milisegundos. Además, puede verse que la creación de procesos respeta un orden, a pesar de que los procesos se ejecuten de manera concurrente.\n",
        "\n",
        "Esto nos llamó la atención, aunque se corroboró la concurrencia agregando un ciclo for que incrementa una variable en cada proceso y mostrando cómo se actualiza el valor de esta, detectando que el incremento no era necesariamente secuencial sino intercalado entre los distintos procesos. Por lo tanto, concluímos que el orden se respeta debido a un manejo de procesos internos del propio lenguaje Go.\n",
        "\n",
        "Por último, podemos notar que cada proceso de Go genera entre 3 y 4 hilos que se producen automáticamente cuando se crea el mismo. Investigando, detectamos que estos hilos se utilizan, entre otras cosas, para recolección de basura (Garbage Collection), runtime scheduler (el gestor que utiliza Go para manejar la concurrencia) o para administrar esperas de Entrada / Salida.\n",
        "\n",
        "\n",
        "Referencias:\n",
        "\n",
        "https://meska54.hashnode.dev/concurrency-in-go-a-deeper-look-into-gos-runtime-scheduler\n",
        "https://stackoverflow.com/questions/73682434/why-are-there-more-os-threads-when-running-go-simple-app\n"
      ]
    }
  ],
  "metadata": {
    "colab": {
      "collapsed_sections": [
        "sK7Qbl3zKRbb",
        "dy5Ddj1PRaF3",
        "2WTArA_xiZF-"
      ],
      "provenance": []
    },
    "kernelspec": {
      "display_name": "Python 3",
      "name": "python3"
    },
    "language_info": {
      "name": "python"
    }
  },
  "nbformat": 4,
  "nbformat_minor": 0
}
